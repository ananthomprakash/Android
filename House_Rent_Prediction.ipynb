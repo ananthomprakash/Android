{
  "nbformat": 4,
  "nbformat_minor": 0,
  "metadata": {
    "kernelspec": {
      "display_name": "Python 3",
      "language": "python",
      "name": "python3"
    },
    "language_info": {
      "codemirror_mode": {
        "name": "ipython",
        "version": 3
      },
      "file_extension": ".py",
      "mimetype": "text/x-python",
      "name": "python",
      "nbconvert_exporter": "python",
      "pygments_lexer": "ipython3",
      "version": "3.7.4"
    },
    "colab": {
      "name": "House Rent Prediction.ipynb",
      "provenance": [],
      "collapsed_sections": [],
      "include_colab_link": true
    }
  },
  "cells": [
    {
      "cell_type": "markdown",
      "metadata": {
        "id": "view-in-github",
        "colab_type": "text"
      },
      "source": [
        "<a href=\"https://colab.research.google.com/github/ananthomprakash/Android/blob/master/House_Rent_Prediction.ipynb\" target=\"_parent\"><img src=\"https://colab.research.google.com/assets/colab-badge.svg\" alt=\"Open In Colab\"/></a>"
      ]
    },
    {
      "cell_type": "code",
      "metadata": {
        "id": "tGyTGpMVyUJ1",
        "colab_type": "code",
        "colab": {
          "base_uri": "https://localhost:8080/",
          "height": 50
        },
        "outputId": "1ba60d4e-5692-4de7-9cdb-754f5feeff26"
      },
      "source": [
        "import numpy as np # to perform numerical operations\n",
        "import pandas as pd # for data manipulations and data agrregations\n",
        "import matplotlib.pyplot as plt\n",
        "import pandas.util.testing as tm\n",
        "import seaborn as sns   # for visualization\n",
        "from sklearn.linear_model import LinearRegression #  To Build regression algo\n",
        "import statsmodels.api as sm # to build the statstical models\n",
        "from sklearn.model_selection import train_test_split # to divide the data into train and test\n",
        "import sklearn.metrics "
      ],
      "execution_count": 2,
      "outputs": [
        {
          "output_type": "stream",
          "text": [
            "/usr/local/lib/python3.6/dist-packages/ipykernel_launcher.py:4: FutureWarning: pandas.util.testing is deprecated. Use the functions in the public API at pandas.testing instead.\n",
            "  after removing the cwd from sys.path.\n"
          ],
          "name": "stderr"
        }
      ]
    },
    {
      "cell_type": "code",
      "metadata": {
        "id": "A5Ni7nheyz-y",
        "colab_type": "code",
        "colab": {
          "base_uri": "https://localhost:8080/",
          "height": 34
        },
        "outputId": "395b7b96-58f3-4a00-dc23-28bd1aaf190c"
      },
      "source": [
        "from google.colab import drive\n",
        "drive.mount('/content/DataSets')"
      ],
      "execution_count": 3,
      "outputs": [
        {
          "output_type": "stream",
          "text": [
            "Drive already mounted at /content/DataSets; to attempt to forcibly remount, call drive.mount(\"/content/DataSets\", force_remount=True).\n"
          ],
          "name": "stdout"
        }
      ]
    },
    {
      "cell_type": "code",
      "metadata": {
        "id": "6r8OpRzizAbU",
        "colab_type": "code",
        "colab": {}
      },
      "source": [
        "from pydrive.auth import GoogleAuth\n",
        "from pydrive.drive import GoogleDrive\n",
        "from google.colab import auth\n",
        "from oauth2client.client import GoogleCredentials"
      ],
      "execution_count": 0,
      "outputs": []
    },
    {
      "cell_type": "code",
      "metadata": {
        "id": "GMHNOHlUzFly",
        "colab_type": "code",
        "colab": {}
      },
      "source": [
        "auth.authenticate_user()\n",
        "gauth = GoogleAuth()\n",
        "gauth.credentials = GoogleCredentials.get_application_default()\n",
        "drive = GoogleDrive(gauth)"
      ],
      "execution_count": 0,
      "outputs": []
    },
    {
      "cell_type": "code",
      "metadata": {
        "id": "sT7ZHoA7zQzt",
        "colab_type": "code",
        "colab": {}
      },
      "source": [
        "downloaded = drive.CreateFile({'id':\"1mflrMcbcKXdIQr45xYm4H6PcdB8dBKt7\"})\n",
        "downloaded.GetContentFile('housing_train.csv')"
      ],
      "execution_count": 0,
      "outputs": []
    },
    {
      "cell_type": "code",
      "metadata": {
        "id": "SpjvWy_pzqe0",
        "colab_type": "code",
        "colab": {}
      },
      "source": [
        "house_raw = pd.read_csv('housing_train.csv')"
      ],
      "execution_count": 0,
      "outputs": []
    },
    {
      "cell_type": "code",
      "metadata": {
        "id": "CtnT7zM0yUJ9",
        "colab_type": "code",
        "colab": {
          "base_uri": "https://localhost:8080/",
          "height": 34
        },
        "outputId": "0a4023a8-9678-4d02-82b1-80896990281d"
      },
      "source": [
        "house_raw.shape"
      ],
      "execution_count": 8,
      "outputs": [
        {
          "output_type": "execute_result",
          "data": {
            "text/plain": [
              "(265190, 22)"
            ]
          },
          "metadata": {
            "tags": []
          },
          "execution_count": 8
        }
      ]
    },
    {
      "cell_type": "code",
      "metadata": {
        "id": "CEf6hOkoyUKB",
        "colab_type": "code",
        "colab": {
          "base_uri": "https://localhost:8080/",
          "height": 568
        },
        "outputId": "bc74913f-ef92-4cc5-a14b-c53eeedd25f6"
      },
      "source": [
        "house_raw.head()"
      ],
      "execution_count": 9,
      "outputs": [
        {
          "output_type": "execute_result",
          "data": {
            "text/html": [
              "<div>\n",
              "<style scoped>\n",
              "    .dataframe tbody tr th:only-of-type {\n",
              "        vertical-align: middle;\n",
              "    }\n",
              "\n",
              "    .dataframe tbody tr th {\n",
              "        vertical-align: top;\n",
              "    }\n",
              "\n",
              "    .dataframe thead th {\n",
              "        text-align: right;\n",
              "    }\n",
              "</style>\n",
              "<table border=\"1\" class=\"dataframe\">\n",
              "  <thead>\n",
              "    <tr style=\"text-align: right;\">\n",
              "      <th></th>\n",
              "      <th>id</th>\n",
              "      <th>url</th>\n",
              "      <th>region</th>\n",
              "      <th>region_url</th>\n",
              "      <th>price</th>\n",
              "      <th>type</th>\n",
              "      <th>sqfeet</th>\n",
              "      <th>beds</th>\n",
              "      <th>baths</th>\n",
              "      <th>cats_allowed</th>\n",
              "      <th>dogs_allowed</th>\n",
              "      <th>smoking_allowed</th>\n",
              "      <th>wheelchair_access</th>\n",
              "      <th>electric_vehicle_charge</th>\n",
              "      <th>comes_furnished</th>\n",
              "      <th>laundry_options</th>\n",
              "      <th>parking_options</th>\n",
              "      <th>image_url</th>\n",
              "      <th>description</th>\n",
              "      <th>lat</th>\n",
              "      <th>long</th>\n",
              "      <th>state</th>\n",
              "    </tr>\n",
              "  </thead>\n",
              "  <tbody>\n",
              "    <tr>\n",
              "      <th>0</th>\n",
              "      <td>7039061606</td>\n",
              "      <td>https://bham.craigslist.org/apa/d/birmingham-h...</td>\n",
              "      <td>birmingham</td>\n",
              "      <td>https://bham.craigslist.org</td>\n",
              "      <td>1195</td>\n",
              "      <td>apartment</td>\n",
              "      <td>1908</td>\n",
              "      <td>3</td>\n",
              "      <td>2.0</td>\n",
              "      <td>1</td>\n",
              "      <td>1</td>\n",
              "      <td>1</td>\n",
              "      <td>0</td>\n",
              "      <td>0</td>\n",
              "      <td>0</td>\n",
              "      <td>laundry on site</td>\n",
              "      <td>street parking</td>\n",
              "      <td>https://images.craigslist.org/00L0L_80pNkyDeG0...</td>\n",
              "      <td>Apartments In Birmingham AL Welcome to 100 Inv...</td>\n",
              "      <td>33.4226</td>\n",
              "      <td>-86.7065</td>\n",
              "      <td>al</td>\n",
              "    </tr>\n",
              "    <tr>\n",
              "      <th>1</th>\n",
              "      <td>7041970863</td>\n",
              "      <td>https://bham.craigslist.org/apa/d/birmingham-w...</td>\n",
              "      <td>birmingham</td>\n",
              "      <td>https://bham.craigslist.org</td>\n",
              "      <td>1120</td>\n",
              "      <td>apartment</td>\n",
              "      <td>1319</td>\n",
              "      <td>3</td>\n",
              "      <td>2.0</td>\n",
              "      <td>1</td>\n",
              "      <td>1</td>\n",
              "      <td>1</td>\n",
              "      <td>0</td>\n",
              "      <td>0</td>\n",
              "      <td>0</td>\n",
              "      <td>laundry on site</td>\n",
              "      <td>off-street parking</td>\n",
              "      <td>https://images.craigslist.org/00707_uRrY9CsNMC...</td>\n",
              "      <td>Find Your Way to Haven Apartment Homes Come ho...</td>\n",
              "      <td>33.3755</td>\n",
              "      <td>-86.8045</td>\n",
              "      <td>al</td>\n",
              "    </tr>\n",
              "    <tr>\n",
              "      <th>2</th>\n",
              "      <td>7041966914</td>\n",
              "      <td>https://bham.craigslist.org/apa/d/birmingham-g...</td>\n",
              "      <td>birmingham</td>\n",
              "      <td>https://bham.craigslist.org</td>\n",
              "      <td>825</td>\n",
              "      <td>apartment</td>\n",
              "      <td>1133</td>\n",
              "      <td>1</td>\n",
              "      <td>1.5</td>\n",
              "      <td>1</td>\n",
              "      <td>1</td>\n",
              "      <td>1</td>\n",
              "      <td>0</td>\n",
              "      <td>0</td>\n",
              "      <td>0</td>\n",
              "      <td>laundry on site</td>\n",
              "      <td>street parking</td>\n",
              "      <td>https://images.craigslist.org/00h0h_b7Bdj1NLBi...</td>\n",
              "      <td>Apartments In Birmingham AL Welcome to 100 Inv...</td>\n",
              "      <td>33.4226</td>\n",
              "      <td>-86.7065</td>\n",
              "      <td>al</td>\n",
              "    </tr>\n",
              "    <tr>\n",
              "      <th>3</th>\n",
              "      <td>7041966936</td>\n",
              "      <td>https://bham.craigslist.org/apa/d/birmingham-f...</td>\n",
              "      <td>birmingham</td>\n",
              "      <td>https://bham.craigslist.org</td>\n",
              "      <td>800</td>\n",
              "      <td>apartment</td>\n",
              "      <td>927</td>\n",
              "      <td>1</td>\n",
              "      <td>1.0</td>\n",
              "      <td>1</td>\n",
              "      <td>1</td>\n",
              "      <td>1</td>\n",
              "      <td>0</td>\n",
              "      <td>0</td>\n",
              "      <td>0</td>\n",
              "      <td>laundry on site</td>\n",
              "      <td>street parking</td>\n",
              "      <td>https://images.craigslist.org/00808_6ghZ8tSRQs...</td>\n",
              "      <td>Apartments In Birmingham AL Welcome to 100 Inv...</td>\n",
              "      <td>33.4226</td>\n",
              "      <td>-86.7065</td>\n",
              "      <td>al</td>\n",
              "    </tr>\n",
              "    <tr>\n",
              "      <th>4</th>\n",
              "      <td>7041966888</td>\n",
              "      <td>https://bham.craigslist.org/apa/d/birmingham-2...</td>\n",
              "      <td>birmingham</td>\n",
              "      <td>https://bham.craigslist.org</td>\n",
              "      <td>785</td>\n",
              "      <td>apartment</td>\n",
              "      <td>1047</td>\n",
              "      <td>2</td>\n",
              "      <td>1.0</td>\n",
              "      <td>1</td>\n",
              "      <td>1</td>\n",
              "      <td>1</td>\n",
              "      <td>0</td>\n",
              "      <td>0</td>\n",
              "      <td>0</td>\n",
              "      <td>laundry on site</td>\n",
              "      <td>street parking</td>\n",
              "      <td>https://images.craigslist.org/00y0y_21c0FOvUXm...</td>\n",
              "      <td>Apartments In Birmingham AL Welcome to 100 Inv...</td>\n",
              "      <td>33.4226</td>\n",
              "      <td>-86.7065</td>\n",
              "      <td>al</td>\n",
              "    </tr>\n",
              "  </tbody>\n",
              "</table>\n",
              "</div>"
            ],
            "text/plain": [
              "           id                                                url  ...     long state\n",
              "0  7039061606  https://bham.craigslist.org/apa/d/birmingham-h...  ... -86.7065    al\n",
              "1  7041970863  https://bham.craigslist.org/apa/d/birmingham-w...  ... -86.8045    al\n",
              "2  7041966914  https://bham.craigslist.org/apa/d/birmingham-g...  ... -86.7065    al\n",
              "3  7041966936  https://bham.craigslist.org/apa/d/birmingham-f...  ... -86.7065    al\n",
              "4  7041966888  https://bham.craigslist.org/apa/d/birmingham-2...  ... -86.7065    al\n",
              "\n",
              "[5 rows x 22 columns]"
            ]
          },
          "metadata": {
            "tags": []
          },
          "execution_count": 9
        }
      ]
    },
    {
      "cell_type": "code",
      "metadata": {
        "id": "HSbt7iQAyUKE",
        "colab_type": "code",
        "colab": {
          "base_uri": "https://localhost:8080/",
          "height": 118
        },
        "outputId": "b0be7825-2adc-4aa0-beb4-d41f42b86d5b"
      },
      "source": [
        "house_raw.columns"
      ],
      "execution_count": 10,
      "outputs": [
        {
          "output_type": "execute_result",
          "data": {
            "text/plain": [
              "Index(['id', 'url', 'region', 'region_url', 'price', 'type', 'sqfeet', 'beds',\n",
              "       'baths', 'cats_allowed', 'dogs_allowed', 'smoking_allowed',\n",
              "       'wheelchair_access', 'electric_vehicle_charge', 'comes_furnished',\n",
              "       'laundry_options', 'parking_options', 'image_url', 'description', 'lat',\n",
              "       'long', 'state'],\n",
              "      dtype='object')"
            ]
          },
          "metadata": {
            "tags": []
          },
          "execution_count": 10
        }
      ]
    },
    {
      "cell_type": "code",
      "metadata": {
        "id": "VQnkv_rLyUKI",
        "colab_type": "code",
        "colab": {
          "base_uri": "https://localhost:8080/",
          "height": 504
        },
        "outputId": "9df287b5-657b-40ee-da81-c646f3836c22"
      },
      "source": [
        "house_raw.info()"
      ],
      "execution_count": 11,
      "outputs": [
        {
          "output_type": "stream",
          "text": [
            "<class 'pandas.core.frame.DataFrame'>\n",
            "RangeIndex: 265190 entries, 0 to 265189\n",
            "Data columns (total 22 columns):\n",
            " #   Column                   Non-Null Count   Dtype  \n",
            "---  ------                   --------------   -----  \n",
            " 0   id                       265190 non-null  int64  \n",
            " 1   url                      265190 non-null  object \n",
            " 2   region                   265190 non-null  object \n",
            " 3   region_url               265190 non-null  object \n",
            " 4   price                    265190 non-null  int64  \n",
            " 5   type                     265190 non-null  object \n",
            " 6   sqfeet                   265190 non-null  int64  \n",
            " 7   beds                     265190 non-null  int64  \n",
            " 8   baths                    265190 non-null  float64\n",
            " 9   cats_allowed             265190 non-null  int64  \n",
            " 10  dogs_allowed             265190 non-null  int64  \n",
            " 11  smoking_allowed          265190 non-null  int64  \n",
            " 12  wheelchair_access        265190 non-null  int64  \n",
            " 13  electric_vehicle_charge  265190 non-null  int64  \n",
            " 14  comes_furnished          265190 non-null  int64  \n",
            " 15  laundry_options          210879 non-null  object \n",
            " 16  parking_options          170055 non-null  object \n",
            " 17  image_url                265190 non-null  object \n",
            " 18  description              265188 non-null  object \n",
            " 19  lat                      263771 non-null  float64\n",
            " 20  long                     263771 non-null  float64\n",
            " 21  state                    265189 non-null  object \n",
            "dtypes: float64(3), int64(10), object(9)\n",
            "memory usage: 44.5+ MB\n"
          ],
          "name": "stdout"
        }
      ]
    },
    {
      "cell_type": "code",
      "metadata": {
        "id": "4ee5Ab8RyUKK",
        "colab_type": "code",
        "colab": {
          "base_uri": "https://localhost:8080/",
          "height": 403
        },
        "outputId": "6152c152-c3ea-4749-9ad3-f0b24ed11dfc"
      },
      "source": [
        "house_raw.isnull().sum()/len(house_raw)*100"
      ],
      "execution_count": 12,
      "outputs": [
        {
          "output_type": "execute_result",
          "data": {
            "text/plain": [
              "id                          0.000000\n",
              "url                         0.000000\n",
              "region                      0.000000\n",
              "region_url                  0.000000\n",
              "price                       0.000000\n",
              "type                        0.000000\n",
              "sqfeet                      0.000000\n",
              "beds                        0.000000\n",
              "baths                       0.000000\n",
              "cats_allowed                0.000000\n",
              "dogs_allowed                0.000000\n",
              "smoking_allowed             0.000000\n",
              "wheelchair_access           0.000000\n",
              "electric_vehicle_charge     0.000000\n",
              "comes_furnished             0.000000\n",
              "laundry_options            20.480033\n",
              "parking_options            35.874279\n",
              "image_url                   0.000000\n",
              "description                 0.000754\n",
              "lat                         0.535088\n",
              "long                        0.535088\n",
              "state                       0.000377\n",
              "dtype: float64"
            ]
          },
          "metadata": {
            "tags": []
          },
          "execution_count": 12
        }
      ]
    },
    {
      "cell_type": "code",
      "metadata": {
        "id": "210IGEROyUKO",
        "colab_type": "code",
        "colab": {
          "base_uri": "https://localhost:8080/",
          "height": 34
        },
        "outputId": "ca1a4893-e435-45d4-bc0c-165fd624f6c5"
      },
      "source": [
        "house_raw.duplicated().sum()"
      ],
      "execution_count": 13,
      "outputs": [
        {
          "output_type": "execute_result",
          "data": {
            "text/plain": [
              "0"
            ]
          },
          "metadata": {
            "tags": []
          },
          "execution_count": 13
        }
      ]
    },
    {
      "cell_type": "code",
      "metadata": {
        "id": "NTBc45PayUKS",
        "colab_type": "code",
        "colab": {
          "base_uri": "https://localhost:8080/",
          "height": 432
        },
        "outputId": "b46b829a-35c6-453f-892e-a02ef8d7f161"
      },
      "source": [
        "house_raw.describe().T"
      ],
      "execution_count": 14,
      "outputs": [
        {
          "output_type": "execute_result",
          "data": {
            "text/html": [
              "<div>\n",
              "<style scoped>\n",
              "    .dataframe tbody tr th:only-of-type {\n",
              "        vertical-align: middle;\n",
              "    }\n",
              "\n",
              "    .dataframe tbody tr th {\n",
              "        vertical-align: top;\n",
              "    }\n",
              "\n",
              "    .dataframe thead th {\n",
              "        text-align: right;\n",
              "    }\n",
              "</style>\n",
              "<table border=\"1\" class=\"dataframe\">\n",
              "  <thead>\n",
              "    <tr style=\"text-align: right;\">\n",
              "      <th></th>\n",
              "      <th>count</th>\n",
              "      <th>mean</th>\n",
              "      <th>std</th>\n",
              "      <th>min</th>\n",
              "      <th>25%</th>\n",
              "      <th>50%</th>\n",
              "      <th>75%</th>\n",
              "      <th>max</th>\n",
              "    </tr>\n",
              "  </thead>\n",
              "  <tbody>\n",
              "    <tr>\n",
              "      <th>id</th>\n",
              "      <td>265190.0</td>\n",
              "      <td>7.040888e+09</td>\n",
              "      <td>8.778930e+06</td>\n",
              "      <td>7.003808e+09</td>\n",
              "      <td>7.035963e+09</td>\n",
              "      <td>7.043109e+09</td>\n",
              "      <td>7.048362e+09</td>\n",
              "      <td>7.051263e+09</td>\n",
              "    </tr>\n",
              "    <tr>\n",
              "      <th>price</th>\n",
              "      <td>265190.0</td>\n",
              "      <td>1.227285e+04</td>\n",
              "      <td>5.376352e+06</td>\n",
              "      <td>0.000000e+00</td>\n",
              "      <td>8.170000e+02</td>\n",
              "      <td>1.060000e+03</td>\n",
              "      <td>1.450000e+03</td>\n",
              "      <td>2.768307e+09</td>\n",
              "    </tr>\n",
              "    <tr>\n",
              "      <th>sqfeet</th>\n",
              "      <td>265190.0</td>\n",
              "      <td>1.093678e+03</td>\n",
              "      <td>2.306888e+04</td>\n",
              "      <td>0.000000e+00</td>\n",
              "      <td>7.520000e+02</td>\n",
              "      <td>9.500000e+02</td>\n",
              "      <td>1.156000e+03</td>\n",
              "      <td>8.388607e+06</td>\n",
              "    </tr>\n",
              "    <tr>\n",
              "      <th>beds</th>\n",
              "      <td>265190.0</td>\n",
              "      <td>1.912414e+00</td>\n",
              "      <td>3.691900e+00</td>\n",
              "      <td>0.000000e+00</td>\n",
              "      <td>1.000000e+00</td>\n",
              "      <td>2.000000e+00</td>\n",
              "      <td>2.000000e+00</td>\n",
              "      <td>1.100000e+03</td>\n",
              "    </tr>\n",
              "    <tr>\n",
              "      <th>baths</th>\n",
              "      <td>265190.0</td>\n",
              "      <td>1.483468e+00</td>\n",
              "      <td>6.302080e-01</td>\n",
              "      <td>0.000000e+00</td>\n",
              "      <td>1.000000e+00</td>\n",
              "      <td>1.000000e+00</td>\n",
              "      <td>2.000000e+00</td>\n",
              "      <td>7.500000e+01</td>\n",
              "    </tr>\n",
              "    <tr>\n",
              "      <th>cats_allowed</th>\n",
              "      <td>265190.0</td>\n",
              "      <td>7.168219e-01</td>\n",
              "      <td>4.505430e-01</td>\n",
              "      <td>0.000000e+00</td>\n",
              "      <td>0.000000e+00</td>\n",
              "      <td>1.000000e+00</td>\n",
              "      <td>1.000000e+00</td>\n",
              "      <td>1.000000e+00</td>\n",
              "    </tr>\n",
              "    <tr>\n",
              "      <th>dogs_allowed</th>\n",
              "      <td>265190.0</td>\n",
              "      <td>6.965496e-01</td>\n",
              "      <td>4.597489e-01</td>\n",
              "      <td>0.000000e+00</td>\n",
              "      <td>0.000000e+00</td>\n",
              "      <td>1.000000e+00</td>\n",
              "      <td>1.000000e+00</td>\n",
              "      <td>1.000000e+00</td>\n",
              "    </tr>\n",
              "    <tr>\n",
              "      <th>smoking_allowed</th>\n",
              "      <td>265190.0</td>\n",
              "      <td>7.338965e-01</td>\n",
              "      <td>4.419199e-01</td>\n",
              "      <td>0.000000e+00</td>\n",
              "      <td>0.000000e+00</td>\n",
              "      <td>1.000000e+00</td>\n",
              "      <td>1.000000e+00</td>\n",
              "      <td>1.000000e+00</td>\n",
              "    </tr>\n",
              "    <tr>\n",
              "      <th>wheelchair_access</th>\n",
              "      <td>265190.0</td>\n",
              "      <td>7.875863e-02</td>\n",
              "      <td>2.693622e-01</td>\n",
              "      <td>0.000000e+00</td>\n",
              "      <td>0.000000e+00</td>\n",
              "      <td>0.000000e+00</td>\n",
              "      <td>0.000000e+00</td>\n",
              "      <td>1.000000e+00</td>\n",
              "    </tr>\n",
              "    <tr>\n",
              "      <th>electric_vehicle_charge</th>\n",
              "      <td>265190.0</td>\n",
              "      <td>1.435952e-02</td>\n",
              "      <td>1.189680e-01</td>\n",
              "      <td>0.000000e+00</td>\n",
              "      <td>0.000000e+00</td>\n",
              "      <td>0.000000e+00</td>\n",
              "      <td>0.000000e+00</td>\n",
              "      <td>1.000000e+00</td>\n",
              "    </tr>\n",
              "    <tr>\n",
              "      <th>comes_furnished</th>\n",
              "      <td>265190.0</td>\n",
              "      <td>4.864437e-02</td>\n",
              "      <td>2.151238e-01</td>\n",
              "      <td>0.000000e+00</td>\n",
              "      <td>0.000000e+00</td>\n",
              "      <td>0.000000e+00</td>\n",
              "      <td>0.000000e+00</td>\n",
              "      <td>1.000000e+00</td>\n",
              "    </tr>\n",
              "    <tr>\n",
              "      <th>lat</th>\n",
              "      <td>263771.0</td>\n",
              "      <td>3.720886e+01</td>\n",
              "      <td>5.659648e+00</td>\n",
              "      <td>-4.353330e+01</td>\n",
              "      <td>3.350850e+01</td>\n",
              "      <td>3.798490e+01</td>\n",
              "      <td>4.116840e+01</td>\n",
              "      <td>1.020360e+02</td>\n",
              "    </tr>\n",
              "    <tr>\n",
              "      <th>long</th>\n",
              "      <td>263771.0</td>\n",
              "      <td>-9.239815e+01</td>\n",
              "      <td>1.737078e+01</td>\n",
              "      <td>-1.638940e+02</td>\n",
              "      <td>-1.047040e+02</td>\n",
              "      <td>-8.647830e+01</td>\n",
              "      <td>-8.128460e+01</td>\n",
              "      <td>1.726330e+02</td>\n",
              "    </tr>\n",
              "  </tbody>\n",
              "</table>\n",
              "</div>"
            ],
            "text/plain": [
              "                            count          mean  ...           75%           max\n",
              "id                       265190.0  7.040888e+09  ...  7.048362e+09  7.051263e+09\n",
              "price                    265190.0  1.227285e+04  ...  1.450000e+03  2.768307e+09\n",
              "sqfeet                   265190.0  1.093678e+03  ...  1.156000e+03  8.388607e+06\n",
              "beds                     265190.0  1.912414e+00  ...  2.000000e+00  1.100000e+03\n",
              "baths                    265190.0  1.483468e+00  ...  2.000000e+00  7.500000e+01\n",
              "cats_allowed             265190.0  7.168219e-01  ...  1.000000e+00  1.000000e+00\n",
              "dogs_allowed             265190.0  6.965496e-01  ...  1.000000e+00  1.000000e+00\n",
              "smoking_allowed          265190.0  7.338965e-01  ...  1.000000e+00  1.000000e+00\n",
              "wheelchair_access        265190.0  7.875863e-02  ...  0.000000e+00  1.000000e+00\n",
              "electric_vehicle_charge  265190.0  1.435952e-02  ...  0.000000e+00  1.000000e+00\n",
              "comes_furnished          265190.0  4.864437e-02  ...  0.000000e+00  1.000000e+00\n",
              "lat                      263771.0  3.720886e+01  ...  4.116840e+01  1.020360e+02\n",
              "long                     263771.0 -9.239815e+01  ... -8.128460e+01  1.726330e+02\n",
              "\n",
              "[13 rows x 8 columns]"
            ]
          },
          "metadata": {
            "tags": []
          },
          "execution_count": 14
        }
      ]
    },
    {
      "cell_type": "code",
      "metadata": {
        "id": "cdk5qo2_yUKY",
        "colab_type": "code",
        "colab": {}
      },
      "source": [
        "house=house_raw.drop([\"url\",\"region_url\",\"image_url\",\"id\"],axis=1)"
      ],
      "execution_count": 0,
      "outputs": []
    },
    {
      "cell_type": "code",
      "metadata": {
        "id": "ZwiwW3nMyUKa",
        "colab_type": "code",
        "colab": {
          "base_uri": "https://localhost:8080/",
          "height": 34
        },
        "outputId": "c465fdb5-1e22-4c0c-8c7d-118a8445dc3d"
      },
      "source": [
        "house.shape"
      ],
      "execution_count": 16,
      "outputs": [
        {
          "output_type": "execute_result",
          "data": {
            "text/plain": [
              "(265190, 18)"
            ]
          },
          "metadata": {
            "tags": []
          },
          "execution_count": 16
        }
      ]
    },
    {
      "cell_type": "code",
      "metadata": {
        "id": "bHup9VUQyUKc",
        "colab_type": "code",
        "colab": {}
      },
      "source": [
        "house.drop([\"lat\",\"long\",\"state\"],axis=1,inplace=True)"
      ],
      "execution_count": 0,
      "outputs": []
    },
    {
      "cell_type": "code",
      "metadata": {
        "id": "8XebrPuiyUKg",
        "colab_type": "code",
        "colab": {
          "base_uri": "https://localhost:8080/",
          "height": 34
        },
        "outputId": "b55dd790-b323-4af6-bf7c-a5dc8417ca50"
      },
      "source": [
        "house.shape"
      ],
      "execution_count": 18,
      "outputs": [
        {
          "output_type": "execute_result",
          "data": {
            "text/plain": [
              "(265190, 15)"
            ]
          },
          "metadata": {
            "tags": []
          },
          "execution_count": 18
        }
      ]
    },
    {
      "cell_type": "code",
      "metadata": {
        "id": "q-LME-XzyUKj",
        "colab_type": "code",
        "colab": {
          "base_uri": "https://localhost:8080/",
          "height": 568
        },
        "outputId": "3b98598e-1f15-4e42-ae15-d566f5c847c5"
      },
      "source": [
        "house.head()"
      ],
      "execution_count": 19,
      "outputs": [
        {
          "output_type": "execute_result",
          "data": {
            "text/html": [
              "<div>\n",
              "<style scoped>\n",
              "    .dataframe tbody tr th:only-of-type {\n",
              "        vertical-align: middle;\n",
              "    }\n",
              "\n",
              "    .dataframe tbody tr th {\n",
              "        vertical-align: top;\n",
              "    }\n",
              "\n",
              "    .dataframe thead th {\n",
              "        text-align: right;\n",
              "    }\n",
              "</style>\n",
              "<table border=\"1\" class=\"dataframe\">\n",
              "  <thead>\n",
              "    <tr style=\"text-align: right;\">\n",
              "      <th></th>\n",
              "      <th>region</th>\n",
              "      <th>price</th>\n",
              "      <th>type</th>\n",
              "      <th>sqfeet</th>\n",
              "      <th>beds</th>\n",
              "      <th>baths</th>\n",
              "      <th>cats_allowed</th>\n",
              "      <th>dogs_allowed</th>\n",
              "      <th>smoking_allowed</th>\n",
              "      <th>wheelchair_access</th>\n",
              "      <th>electric_vehicle_charge</th>\n",
              "      <th>comes_furnished</th>\n",
              "      <th>laundry_options</th>\n",
              "      <th>parking_options</th>\n",
              "      <th>description</th>\n",
              "    </tr>\n",
              "  </thead>\n",
              "  <tbody>\n",
              "    <tr>\n",
              "      <th>0</th>\n",
              "      <td>birmingham</td>\n",
              "      <td>1195</td>\n",
              "      <td>apartment</td>\n",
              "      <td>1908</td>\n",
              "      <td>3</td>\n",
              "      <td>2.0</td>\n",
              "      <td>1</td>\n",
              "      <td>1</td>\n",
              "      <td>1</td>\n",
              "      <td>0</td>\n",
              "      <td>0</td>\n",
              "      <td>0</td>\n",
              "      <td>laundry on site</td>\n",
              "      <td>street parking</td>\n",
              "      <td>Apartments In Birmingham AL Welcome to 100 Inv...</td>\n",
              "    </tr>\n",
              "    <tr>\n",
              "      <th>1</th>\n",
              "      <td>birmingham</td>\n",
              "      <td>1120</td>\n",
              "      <td>apartment</td>\n",
              "      <td>1319</td>\n",
              "      <td>3</td>\n",
              "      <td>2.0</td>\n",
              "      <td>1</td>\n",
              "      <td>1</td>\n",
              "      <td>1</td>\n",
              "      <td>0</td>\n",
              "      <td>0</td>\n",
              "      <td>0</td>\n",
              "      <td>laundry on site</td>\n",
              "      <td>off-street parking</td>\n",
              "      <td>Find Your Way to Haven Apartment Homes Come ho...</td>\n",
              "    </tr>\n",
              "    <tr>\n",
              "      <th>2</th>\n",
              "      <td>birmingham</td>\n",
              "      <td>825</td>\n",
              "      <td>apartment</td>\n",
              "      <td>1133</td>\n",
              "      <td>1</td>\n",
              "      <td>1.5</td>\n",
              "      <td>1</td>\n",
              "      <td>1</td>\n",
              "      <td>1</td>\n",
              "      <td>0</td>\n",
              "      <td>0</td>\n",
              "      <td>0</td>\n",
              "      <td>laundry on site</td>\n",
              "      <td>street parking</td>\n",
              "      <td>Apartments In Birmingham AL Welcome to 100 Inv...</td>\n",
              "    </tr>\n",
              "    <tr>\n",
              "      <th>3</th>\n",
              "      <td>birmingham</td>\n",
              "      <td>800</td>\n",
              "      <td>apartment</td>\n",
              "      <td>927</td>\n",
              "      <td>1</td>\n",
              "      <td>1.0</td>\n",
              "      <td>1</td>\n",
              "      <td>1</td>\n",
              "      <td>1</td>\n",
              "      <td>0</td>\n",
              "      <td>0</td>\n",
              "      <td>0</td>\n",
              "      <td>laundry on site</td>\n",
              "      <td>street parking</td>\n",
              "      <td>Apartments In Birmingham AL Welcome to 100 Inv...</td>\n",
              "    </tr>\n",
              "    <tr>\n",
              "      <th>4</th>\n",
              "      <td>birmingham</td>\n",
              "      <td>785</td>\n",
              "      <td>apartment</td>\n",
              "      <td>1047</td>\n",
              "      <td>2</td>\n",
              "      <td>1.0</td>\n",
              "      <td>1</td>\n",
              "      <td>1</td>\n",
              "      <td>1</td>\n",
              "      <td>0</td>\n",
              "      <td>0</td>\n",
              "      <td>0</td>\n",
              "      <td>laundry on site</td>\n",
              "      <td>street parking</td>\n",
              "      <td>Apartments In Birmingham AL Welcome to 100 Inv...</td>\n",
              "    </tr>\n",
              "  </tbody>\n",
              "</table>\n",
              "</div>"
            ],
            "text/plain": [
              "       region  ...                                        description\n",
              "0  birmingham  ...  Apartments In Birmingham AL Welcome to 100 Inv...\n",
              "1  birmingham  ...  Find Your Way to Haven Apartment Homes Come ho...\n",
              "2  birmingham  ...  Apartments In Birmingham AL Welcome to 100 Inv...\n",
              "3  birmingham  ...  Apartments In Birmingham AL Welcome to 100 Inv...\n",
              "4  birmingham  ...  Apartments In Birmingham AL Welcome to 100 Inv...\n",
              "\n",
              "[5 rows x 15 columns]"
            ]
          },
          "metadata": {
            "tags": []
          },
          "execution_count": 19
        }
      ]
    },
    {
      "cell_type": "code",
      "metadata": {
        "id": "Z2M7TnF7yUKl",
        "colab_type": "code",
        "colab": {}
      },
      "source": [
        "def outlier_cal(data):\n",
        "    col=list(data.columns)\n",
        "    for i in col:\n",
        "        if (data[i].dtypes!='object'):\n",
        "            if(data[i].nunique()> 2):\n",
        "                iqr=data[i].quantile(0.75)-data[i].quantile(0.25)\n",
        "                lo=data[i].quantile(0.25)-(1.5*iqr)\n",
        "                uo=data[i].quantile(0.75)+(1.5*iqr)\n",
        "                data[i]=np.where(data[i]>uo,uo,data[i])\n",
        "                data[i]=np.where(data[i]<lo,lo,data[i])\n",
        "    return data"
      ],
      "execution_count": 0,
      "outputs": []
    },
    {
      "cell_type": "code",
      "metadata": {
        "id": "pnHIc7cmyUKo",
        "colab_type": "code",
        "colab": {
          "base_uri": "https://localhost:8080/",
          "height": 286
        },
        "outputId": "f013ed19-34e6-42ae-8817-795e74b712aa"
      },
      "source": [
        "house.dtypes"
      ],
      "execution_count": 21,
      "outputs": [
        {
          "output_type": "execute_result",
          "data": {
            "text/plain": [
              "region                      object\n",
              "price                        int64\n",
              "type                        object\n",
              "sqfeet                       int64\n",
              "beds                         int64\n",
              "baths                      float64\n",
              "cats_allowed                 int64\n",
              "dogs_allowed                 int64\n",
              "smoking_allowed              int64\n",
              "wheelchair_access            int64\n",
              "electric_vehicle_charge      int64\n",
              "comes_furnished              int64\n",
              "laundry_options             object\n",
              "parking_options             object\n",
              "description                 object\n",
              "dtype: object"
            ]
          },
          "metadata": {
            "tags": []
          },
          "execution_count": 21
        }
      ]
    },
    {
      "cell_type": "code",
      "metadata": {
        "id": "pIyKptxTyUKr",
        "colab_type": "code",
        "colab": {
          "base_uri": "https://localhost:8080/",
          "height": 353
        },
        "outputId": "0be6383b-7b86-40fb-b366-2958eb8d6331"
      },
      "source": [
        "house[\"baths\"].value_counts()"
      ],
      "execution_count": 22,
      "outputs": [
        {
          "output_type": "execute_result",
          "data": {
            "text/plain": [
              "1.0     136375\n",
              "2.0      93726\n",
              "1.5      18476\n",
              "2.5       8185\n",
              "3.0       4272\n",
              "0.0       2045\n",
              "4.0       1147\n",
              "3.5        652\n",
              "4.5        145\n",
              "5.0        108\n",
              "5.5         28\n",
              "6.0         17\n",
              "6.5          4\n",
              "7.0          4\n",
              "75.0         2\n",
              "8.0          1\n",
              "35.0         1\n",
              "8.5          1\n",
              "7.5          1\n",
              "Name: baths, dtype: int64"
            ]
          },
          "metadata": {
            "tags": []
          },
          "execution_count": 22
        }
      ]
    },
    {
      "cell_type": "code",
      "metadata": {
        "id": "o_8QyClJyUKt",
        "colab_type": "code",
        "colab": {}
      },
      "source": [
        "house1=outlier_cal(data=house)"
      ],
      "execution_count": 0,
      "outputs": []
    },
    {
      "cell_type": "code",
      "metadata": {
        "id": "LXOH4XGvyUKw",
        "colab_type": "code",
        "colab": {
          "base_uri": "https://localhost:8080/",
          "height": 343
        },
        "outputId": "c6cd9859-56aa-4a5b-8f9b-93cfc4aa6634"
      },
      "source": [
        "house1.describe().T"
      ],
      "execution_count": 36,
      "outputs": [
        {
          "output_type": "execute_result",
          "data": {
            "text/html": [
              "<div>\n",
              "<style scoped>\n",
              "    .dataframe tbody tr th:only-of-type {\n",
              "        vertical-align: middle;\n",
              "    }\n",
              "\n",
              "    .dataframe tbody tr th {\n",
              "        vertical-align: top;\n",
              "    }\n",
              "\n",
              "    .dataframe thead th {\n",
              "        text-align: right;\n",
              "    }\n",
              "</style>\n",
              "<table border=\"1\" class=\"dataframe\">\n",
              "  <thead>\n",
              "    <tr style=\"text-align: right;\">\n",
              "      <th></th>\n",
              "      <th>count</th>\n",
              "      <th>mean</th>\n",
              "      <th>std</th>\n",
              "      <th>min</th>\n",
              "      <th>25%</th>\n",
              "      <th>50%</th>\n",
              "      <th>75%</th>\n",
              "      <th>max</th>\n",
              "    </tr>\n",
              "  </thead>\n",
              "  <tbody>\n",
              "    <tr>\n",
              "      <th>price</th>\n",
              "      <td>265190.0</td>\n",
              "      <td>1183.357466</td>\n",
              "      <td>502.948051</td>\n",
              "      <td>0.0</td>\n",
              "      <td>817.0</td>\n",
              "      <td>1060.0</td>\n",
              "      <td>1450.0</td>\n",
              "      <td>2399.5</td>\n",
              "    </tr>\n",
              "    <tr>\n",
              "      <th>sqfeet</th>\n",
              "      <td>265190.0</td>\n",
              "      <td>980.013356</td>\n",
              "      <td>316.273115</td>\n",
              "      <td>146.0</td>\n",
              "      <td>752.0</td>\n",
              "      <td>950.0</td>\n",
              "      <td>1156.0</td>\n",
              "      <td>1762.0</td>\n",
              "    </tr>\n",
              "    <tr>\n",
              "      <th>beds</th>\n",
              "      <td>265190.0</td>\n",
              "      <td>1.873330</td>\n",
              "      <td>0.814419</td>\n",
              "      <td>0.0</td>\n",
              "      <td>1.0</td>\n",
              "      <td>2.0</td>\n",
              "      <td>2.0</td>\n",
              "      <td>3.5</td>\n",
              "    </tr>\n",
              "    <tr>\n",
              "      <th>baths</th>\n",
              "      <td>265190.0</td>\n",
              "      <td>1.478970</td>\n",
              "      <td>0.576873</td>\n",
              "      <td>0.0</td>\n",
              "      <td>1.0</td>\n",
              "      <td>1.0</td>\n",
              "      <td>2.0</td>\n",
              "      <td>3.5</td>\n",
              "    </tr>\n",
              "    <tr>\n",
              "      <th>cats_allowed</th>\n",
              "      <td>265190.0</td>\n",
              "      <td>0.716822</td>\n",
              "      <td>0.450543</td>\n",
              "      <td>0.0</td>\n",
              "      <td>0.0</td>\n",
              "      <td>1.0</td>\n",
              "      <td>1.0</td>\n",
              "      <td>1.0</td>\n",
              "    </tr>\n",
              "    <tr>\n",
              "      <th>dogs_allowed</th>\n",
              "      <td>265190.0</td>\n",
              "      <td>0.696550</td>\n",
              "      <td>0.459749</td>\n",
              "      <td>0.0</td>\n",
              "      <td>0.0</td>\n",
              "      <td>1.0</td>\n",
              "      <td>1.0</td>\n",
              "      <td>1.0</td>\n",
              "    </tr>\n",
              "    <tr>\n",
              "      <th>smoking_allowed</th>\n",
              "      <td>265190.0</td>\n",
              "      <td>0.733896</td>\n",
              "      <td>0.441920</td>\n",
              "      <td>0.0</td>\n",
              "      <td>0.0</td>\n",
              "      <td>1.0</td>\n",
              "      <td>1.0</td>\n",
              "      <td>1.0</td>\n",
              "    </tr>\n",
              "    <tr>\n",
              "      <th>wheelchair_access</th>\n",
              "      <td>265190.0</td>\n",
              "      <td>0.078759</td>\n",
              "      <td>0.269362</td>\n",
              "      <td>0.0</td>\n",
              "      <td>0.0</td>\n",
              "      <td>0.0</td>\n",
              "      <td>0.0</td>\n",
              "      <td>1.0</td>\n",
              "    </tr>\n",
              "    <tr>\n",
              "      <th>electric_vehicle_charge</th>\n",
              "      <td>265190.0</td>\n",
              "      <td>0.014360</td>\n",
              "      <td>0.118968</td>\n",
              "      <td>0.0</td>\n",
              "      <td>0.0</td>\n",
              "      <td>0.0</td>\n",
              "      <td>0.0</td>\n",
              "      <td>1.0</td>\n",
              "    </tr>\n",
              "    <tr>\n",
              "      <th>comes_furnished</th>\n",
              "      <td>265190.0</td>\n",
              "      <td>0.048644</td>\n",
              "      <td>0.215124</td>\n",
              "      <td>0.0</td>\n",
              "      <td>0.0</td>\n",
              "      <td>0.0</td>\n",
              "      <td>0.0</td>\n",
              "      <td>1.0</td>\n",
              "    </tr>\n",
              "  </tbody>\n",
              "</table>\n",
              "</div>"
            ],
            "text/plain": [
              "                            count         mean  ...     75%     max\n",
              "price                    265190.0  1183.357466  ...  1450.0  2399.5\n",
              "sqfeet                   265190.0   980.013356  ...  1156.0  1762.0\n",
              "beds                     265190.0     1.873330  ...     2.0     3.5\n",
              "baths                    265190.0     1.478970  ...     2.0     3.5\n",
              "cats_allowed             265190.0     0.716822  ...     1.0     1.0\n",
              "dogs_allowed             265190.0     0.696550  ...     1.0     1.0\n",
              "smoking_allowed          265190.0     0.733896  ...     1.0     1.0\n",
              "wheelchair_access        265190.0     0.078759  ...     0.0     1.0\n",
              "electric_vehicle_charge  265190.0     0.014360  ...     0.0     1.0\n",
              "comes_furnished          265190.0     0.048644  ...     0.0     1.0\n",
              "\n",
              "[10 rows x 8 columns]"
            ]
          },
          "metadata": {
            "tags": []
          },
          "execution_count": 36
        }
      ]
    },
    {
      "cell_type": "code",
      "metadata": {
        "scrolled": true,
        "id": "bUhK-ihJyUKz",
        "colab_type": "code",
        "colab": {
          "base_uri": "https://localhost:8080/",
          "height": 269
        },
        "outputId": "8d25f9df-f23d-4905-9e25-efb1ef73bbfa"
      },
      "source": [
        "house1.dtypes"
      ],
      "execution_count": 37,
      "outputs": [
        {
          "output_type": "execute_result",
          "data": {
            "text/plain": [
              "region                      object\n",
              "price                      float64\n",
              "type                        object\n",
              "sqfeet                     float64\n",
              "beds                       float64\n",
              "baths                      float64\n",
              "cats_allowed                 int64\n",
              "dogs_allowed                 int64\n",
              "smoking_allowed              int64\n",
              "wheelchair_access            int64\n",
              "electric_vehicle_charge      int64\n",
              "comes_furnished              int64\n",
              "laundry_options             object\n",
              "parking_options             object\n",
              "dtype: object"
            ]
          },
          "metadata": {
            "tags": []
          },
          "execution_count": 37
        }
      ]
    },
    {
      "cell_type": "code",
      "metadata": {
        "id": "MG2Ls51J3HEL",
        "colab_type": "code",
        "colab": {
          "base_uri": "https://localhost:8080/",
          "height": 101
        },
        "outputId": "78d79d6d-3569-4b38-ef14-bd3e8994cfaf"
      },
      "source": [
        "house1.columns"
      ],
      "execution_count": 38,
      "outputs": [
        {
          "output_type": "execute_result",
          "data": {
            "text/plain": [
              "Index(['region', 'price', 'type', 'sqfeet', 'beds', 'baths', 'cats_allowed',\n",
              "       'dogs_allowed', 'smoking_allowed', 'wheelchair_access',\n",
              "       'electric_vehicle_charge', 'comes_furnished', 'laundry_options',\n",
              "       'parking_options'],\n",
              "      dtype='object')"
            ]
          },
          "metadata": {
            "tags": []
          },
          "execution_count": 38
        }
      ]
    },
    {
      "cell_type": "code",
      "metadata": {
        "id": "9YtPAcwC3hcT",
        "colab_type": "code",
        "colab": {
          "base_uri": "https://localhost:8080/",
          "height": 269
        },
        "outputId": "4cbd787d-97d9-443f-ab7f-677ea06d40a2"
      },
      "source": [
        "house1.nunique()"
      ],
      "execution_count": 39,
      "outputs": [
        {
          "output_type": "execute_result",
          "data": {
            "text/plain": [
              "region                      298\n",
              "price                      2177\n",
              "type                         12\n",
              "sqfeet                     1525\n",
              "beds                          5\n",
              "baths                         7\n",
              "cats_allowed                  2\n",
              "dogs_allowed                  2\n",
              "smoking_allowed               2\n",
              "wheelchair_access             2\n",
              "electric_vehicle_charge       2\n",
              "comes_furnished               2\n",
              "laundry_options               5\n",
              "parking_options               7\n",
              "dtype: int64"
            ]
          },
          "metadata": {
            "tags": []
          },
          "execution_count": 39
        }
      ]
    },
    {
      "cell_type": "code",
      "metadata": {
        "id": "xn21Joyg5Bwn",
        "colab_type": "code",
        "colab": {}
      },
      "source": [
        "house1=house1.drop([\"description\"],axis=1)"
      ],
      "execution_count": 0,
      "outputs": []
    },
    {
      "cell_type": "code",
      "metadata": {
        "id": "8wwCyxjh4iWo",
        "colab_type": "code",
        "colab": {
          "base_uri": "https://localhost:8080/",
          "height": 218
        },
        "outputId": "0b74f0a1-d100-4b3d-9e15-47b15b3baf4b"
      },
      "source": [
        "house1[\"region\"].value_counts()"
      ],
      "execution_count": 43,
      "outputs": [
        {
          "output_type": "execute_result",
          "data": {
            "text/plain": [
              "jacksonville              4246\n",
              "rochester                 3677\n",
              "fayetteville              3652\n",
              "omaha / council bluffs    2727\n",
              "denver                    2671\n",
              "                          ... \n",
              "mansfield                    3\n",
              "corvallis/albany             3\n",
              "northwest OK                 2\n",
              "east oregon                  1\n",
              "texoma                       1\n",
              "Name: region, Length: 298, dtype: int64"
            ]
          },
          "metadata": {
            "tags": []
          },
          "execution_count": 43
        }
      ]
    },
    {
      "cell_type": "code",
      "metadata": {
        "id": "3GN0F34G5lNK",
        "colab_type": "code",
        "colab": {
          "base_uri": "https://localhost:8080/",
          "height": 269
        },
        "outputId": "b3a09db6-e480-4f9b-b1d0-7cc3c0a52454"
      },
      "source": [
        "house1.nunique()"
      ],
      "execution_count": 49,
      "outputs": [
        {
          "output_type": "execute_result",
          "data": {
            "text/plain": [
              "region                      298\n",
              "price                      2177\n",
              "type                         12\n",
              "sqfeet                     1525\n",
              "beds                          5\n",
              "baths                         7\n",
              "cats_allowed                  2\n",
              "dogs_allowed                  2\n",
              "smoking_allowed               2\n",
              "wheelchair_access             2\n",
              "electric_vehicle_charge       2\n",
              "comes_furnished               2\n",
              "laundry_options               5\n",
              "parking_options               7\n",
              "dtype: int64"
            ]
          },
          "metadata": {
            "tags": []
          },
          "execution_count": 49
        }
      ]
    },
    {
      "cell_type": "code",
      "metadata": {
        "id": "nHDQRA6h4LAM",
        "colab_type": "code",
        "colab": {
          "base_uri": "https://localhost:8080/",
          "height": 235
        },
        "outputId": "e3f8f117-a03d-4b65-d4f8-2d5909553377"
      },
      "source": [
        "house1[\"type\"].value_counts()"
      ],
      "execution_count": 42,
      "outputs": [
        {
          "output_type": "execute_result",
          "data": {
            "text/plain": [
              "apartment          218032\n",
              "house               23741\n",
              "townhouse           10381\n",
              "condo                4864\n",
              "duplex               3452\n",
              "manufactured         3008\n",
              "cottage/cabin         702\n",
              "loft                  511\n",
              "flat                  349\n",
              "in-law                145\n",
              "land                    4\n",
              "assisted living         1\n",
              "Name: type, dtype: int64"
            ]
          },
          "metadata": {
            "tags": []
          },
          "execution_count": 42
        }
      ]
    },
    {
      "cell_type": "code",
      "metadata": {
        "id": "eW8hhEXL40qL",
        "colab_type": "code",
        "colab": {
          "base_uri": "https://localhost:8080/",
          "height": 118
        },
        "outputId": "a32ba349-777f-42f1-b2cf-bd8d668c7e5a"
      },
      "source": [
        "house1[\"laundry_options\"].value_counts()"
      ],
      "execution_count": 45,
      "outputs": [
        {
          "output_type": "execute_result",
          "data": {
            "text/plain": [
              "w/d in unit           91074\n",
              "w/d hookups           50252\n",
              "laundry on site       39186\n",
              "laundry in bldg       27816\n",
              "no laundry on site     2551\n",
              "Name: laundry_options, dtype: int64"
            ]
          },
          "metadata": {
            "tags": []
          },
          "execution_count": 45
        }
      ]
    },
    {
      "cell_type": "code",
      "metadata": {
        "id": "Be6ptdev5ROF",
        "colab_type": "code",
        "colab": {
          "base_uri": "https://localhost:8080/",
          "height": 151
        },
        "outputId": "b405a47b-1a51-4f7f-83b7-96f6a19b859c"
      },
      "source": [
        "house1[\"parking_options\"].value_counts()"
      ],
      "execution_count": 46,
      "outputs": [
        {
          "output_type": "execute_result",
          "data": {
            "text/plain": [
              "off-street parking    88316\n",
              "carport               28685\n",
              "attached garage       27591\n",
              "detached garage       12798\n",
              "street parking        10570\n",
              "no parking             1973\n",
              "valet parking           122\n",
              "Name: parking_options, dtype: int64"
            ]
          },
          "metadata": {
            "tags": []
          },
          "execution_count": 46
        }
      ]
    },
    {
      "cell_type": "code",
      "metadata": {
        "id": "NKxcRRj25elT",
        "colab_type": "code",
        "colab": {}
      },
      "source": [
        "house2=house1[house1[\"region\"]=='jacksonville']"
      ],
      "execution_count": 0,
      "outputs": []
    },
    {
      "cell_type": "code",
      "metadata": {
        "id": "C9JeOhy361XO",
        "colab_type": "code",
        "colab": {}
      },
      "source": [
        "house2=house2.drop(['region'],axis=1)"
      ],
      "execution_count": 0,
      "outputs": []
    },
    {
      "cell_type": "code",
      "metadata": {
        "id": "XL3XuR937Et0",
        "colab_type": "code",
        "colab": {
          "base_uri": "https://localhost:8080/",
          "height": 252
        },
        "outputId": "552a438a-bc5d-4f7c-c69f-60b0bf243f7b"
      },
      "source": [
        "house2.nunique()"
      ],
      "execution_count": 52,
      "outputs": [
        {
          "output_type": "execute_result",
          "data": {
            "text/plain": [
              "price                      568\n",
              "type                         7\n",
              "sqfeet                     399\n",
              "beds                         5\n",
              "baths                        7\n",
              "cats_allowed                 2\n",
              "dogs_allowed                 2\n",
              "smoking_allowed              2\n",
              "wheelchair_access            2\n",
              "electric_vehicle_charge      2\n",
              "comes_furnished              2\n",
              "laundry_options              5\n",
              "parking_options              6\n",
              "dtype: int64"
            ]
          },
          "metadata": {
            "tags": []
          },
          "execution_count": 52
        }
      ]
    },
    {
      "cell_type": "code",
      "metadata": {
        "id": "pDfh0Djh7UTc",
        "colab_type": "code",
        "colab": {
          "base_uri": "https://localhost:8080/",
          "height": 252
        },
        "outputId": "56d9fea5-6b85-48b0-bb79-f6039a7990d3"
      },
      "source": [
        "house2.dtypes"
      ],
      "execution_count": 53,
      "outputs": [
        {
          "output_type": "execute_result",
          "data": {
            "text/plain": [
              "price                      float64\n",
              "type                        object\n",
              "sqfeet                     float64\n",
              "beds                       float64\n",
              "baths                      float64\n",
              "cats_allowed                 int64\n",
              "dogs_allowed                 int64\n",
              "smoking_allowed              int64\n",
              "wheelchair_access            int64\n",
              "electric_vehicle_charge      int64\n",
              "comes_furnished              int64\n",
              "laundry_options             object\n",
              "parking_options             object\n",
              "dtype: object"
            ]
          },
          "metadata": {
            "tags": []
          },
          "execution_count": 53
        }
      ]
    },
    {
      "cell_type": "code",
      "metadata": {
        "id": "bTDBlF9x7YiC",
        "colab_type": "code",
        "colab": {}
      },
      "source": [
        "house3=pd.get_dummies(house2,drop_first=True)"
      ],
      "execution_count": 0,
      "outputs": []
    },
    {
      "cell_type": "code",
      "metadata": {
        "id": "Y8JMUhUo7sv9",
        "colab_type": "code",
        "colab": {
          "base_uri": "https://localhost:8080/",
          "height": 437
        },
        "outputId": "dfc61ceb-e1fd-47aa-a1f1-6a3cb130f1cc"
      },
      "source": [
        "list(house3.columns)"
      ],
      "execution_count": 55,
      "outputs": [
        {
          "output_type": "execute_result",
          "data": {
            "text/plain": [
              "['price',\n",
              " 'sqfeet',\n",
              " 'beds',\n",
              " 'baths',\n",
              " 'cats_allowed',\n",
              " 'dogs_allowed',\n",
              " 'smoking_allowed',\n",
              " 'wheelchair_access',\n",
              " 'electric_vehicle_charge',\n",
              " 'comes_furnished',\n",
              " 'type_condo',\n",
              " 'type_duplex',\n",
              " 'type_house',\n",
              " 'type_loft',\n",
              " 'type_manufactured',\n",
              " 'type_townhouse',\n",
              " 'laundry_options_laundry on site',\n",
              " 'laundry_options_no laundry on site',\n",
              " 'laundry_options_w/d hookups',\n",
              " 'laundry_options_w/d in unit',\n",
              " 'parking_options_carport',\n",
              " 'parking_options_detached garage',\n",
              " 'parking_options_no parking',\n",
              " 'parking_options_off-street parking',\n",
              " 'parking_options_street parking']"
            ]
          },
          "metadata": {
            "tags": []
          },
          "execution_count": 55
        }
      ]
    },
    {
      "cell_type": "code",
      "metadata": {
        "id": "G9H8YZ_a8F_1",
        "colab_type": "code",
        "colab": {}
      },
      "source": [
        "from sklearn.linear_model import LinearRegression  # this will help us to impute the numerical varaible missing values\n",
        "from sklearn.linear_model import LogisticRegression # this will help us to impute the categorical varaible missing values\n",
        "def fillnan(df):\n",
        "    columns = df.columns[df.isnull().any()]\n",
        "    for name in columns:\n",
        "        y = df.loc[df[name].notnull(), name].values # the varaibles, which are having missing but consider only non missing rows of missing variables\n",
        "        X = df.loc[df[name].notnull()].drop(columns, axis=1).values # non missing variables values are considering\n",
        "        X_test = df.loc[df[name].isnull()].drop(columns, axis=1).values # missing rows \n",
        "        if df[name].dtypes == 'object':\n",
        "            model = LogisticRegression()\n",
        "            model.fit(X, y)\n",
        "            df.loc[df[name].isnull(), name] = model.predict(X_test)\n",
        "        else:\n",
        "            model = LinearRegression()\n",
        "            model.fit(X, y)\n",
        "            df.loc[df[name].isnull(), name] = model.predict(X_test)\n",
        "    return df"
      ],
      "execution_count": 0,
      "outputs": []
    },
    {
      "cell_type": "code",
      "metadata": {
        "id": "FBXDLR958R8X",
        "colab_type": "code",
        "colab": {}
      },
      "source": [
        "house4=fillnan(df=house3)"
      ],
      "execution_count": 0,
      "outputs": []
    },
    {
      "cell_type": "code",
      "metadata": {
        "id": "PUTl0FBb8nPX",
        "colab_type": "code",
        "colab": {
          "base_uri": "https://localhost:8080/",
          "height": 554
        },
        "outputId": "6c83d68f-1349-490e-d157-313fe9f0e9f2"
      },
      "source": [
        "house4.info()"
      ],
      "execution_count": 59,
      "outputs": [
        {
          "output_type": "stream",
          "text": [
            "<class 'pandas.core.frame.DataFrame'>\n",
            "Int64Index: 4246 entries, 58604 to 222840\n",
            "Data columns (total 25 columns):\n",
            " #   Column                              Non-Null Count  Dtype  \n",
            "---  ------                              --------------  -----  \n",
            " 0   price                               4246 non-null   float64\n",
            " 1   sqfeet                              4246 non-null   float64\n",
            " 2   beds                                4246 non-null   float64\n",
            " 3   baths                               4246 non-null   float64\n",
            " 4   cats_allowed                        4246 non-null   int64  \n",
            " 5   dogs_allowed                        4246 non-null   int64  \n",
            " 6   smoking_allowed                     4246 non-null   int64  \n",
            " 7   wheelchair_access                   4246 non-null   int64  \n",
            " 8   electric_vehicle_charge             4246 non-null   int64  \n",
            " 9   comes_furnished                     4246 non-null   int64  \n",
            " 10  type_condo                          4246 non-null   uint8  \n",
            " 11  type_duplex                         4246 non-null   uint8  \n",
            " 12  type_house                          4246 non-null   uint8  \n",
            " 13  type_loft                           4246 non-null   uint8  \n",
            " 14  type_manufactured                   4246 non-null   uint8  \n",
            " 15  type_townhouse                      4246 non-null   uint8  \n",
            " 16  laundry_options_laundry on site     4246 non-null   uint8  \n",
            " 17  laundry_options_no laundry on site  4246 non-null   uint8  \n",
            " 18  laundry_options_w/d hookups         4246 non-null   uint8  \n",
            " 19  laundry_options_w/d in unit         4246 non-null   uint8  \n",
            " 20  parking_options_carport             4246 non-null   uint8  \n",
            " 21  parking_options_detached garage     4246 non-null   uint8  \n",
            " 22  parking_options_no parking          4246 non-null   uint8  \n",
            " 23  parking_options_off-street parking  4246 non-null   uint8  \n",
            " 24  parking_options_street parking      4246 non-null   uint8  \n",
            "dtypes: float64(4), int64(6), uint8(15)\n",
            "memory usage: 427.1 KB\n"
          ],
          "name": "stdout"
        }
      ]
    },
    {
      "cell_type": "code",
      "metadata": {
        "id": "IHKYE7SX8rGO",
        "colab_type": "code",
        "colab": {
          "base_uri": "https://localhost:8080/",
          "height": 380
        },
        "outputId": "09a6072c-7177-49d5-c886-22cee1beb58f"
      },
      "source": [
        "house4.head(10)"
      ],
      "execution_count": 61,
      "outputs": [
        {
          "output_type": "execute_result",
          "data": {
            "text/html": [
              "<div>\n",
              "<style scoped>\n",
              "    .dataframe tbody tr th:only-of-type {\n",
              "        vertical-align: middle;\n",
              "    }\n",
              "\n",
              "    .dataframe tbody tr th {\n",
              "        vertical-align: top;\n",
              "    }\n",
              "\n",
              "    .dataframe thead th {\n",
              "        text-align: right;\n",
              "    }\n",
              "</style>\n",
              "<table border=\"1\" class=\"dataframe\">\n",
              "  <thead>\n",
              "    <tr style=\"text-align: right;\">\n",
              "      <th></th>\n",
              "      <th>price</th>\n",
              "      <th>sqfeet</th>\n",
              "      <th>beds</th>\n",
              "      <th>baths</th>\n",
              "      <th>cats_allowed</th>\n",
              "      <th>dogs_allowed</th>\n",
              "      <th>smoking_allowed</th>\n",
              "      <th>wheelchair_access</th>\n",
              "      <th>electric_vehicle_charge</th>\n",
              "      <th>comes_furnished</th>\n",
              "      <th>type_condo</th>\n",
              "      <th>type_duplex</th>\n",
              "      <th>type_house</th>\n",
              "      <th>type_loft</th>\n",
              "      <th>type_manufactured</th>\n",
              "      <th>type_townhouse</th>\n",
              "      <th>laundry_options_laundry on site</th>\n",
              "      <th>laundry_options_no laundry on site</th>\n",
              "      <th>laundry_options_w/d hookups</th>\n",
              "      <th>laundry_options_w/d in unit</th>\n",
              "      <th>parking_options_carport</th>\n",
              "      <th>parking_options_detached garage</th>\n",
              "      <th>parking_options_no parking</th>\n",
              "      <th>parking_options_off-street parking</th>\n",
              "      <th>parking_options_street parking</th>\n",
              "    </tr>\n",
              "  </thead>\n",
              "  <tbody>\n",
              "    <tr>\n",
              "      <th>58604</th>\n",
              "      <td>1440.0</td>\n",
              "      <td>1480.0</td>\n",
              "      <td>3.0</td>\n",
              "      <td>2.5</td>\n",
              "      <td>0</td>\n",
              "      <td>0</td>\n",
              "      <td>1</td>\n",
              "      <td>0</td>\n",
              "      <td>0</td>\n",
              "      <td>0</td>\n",
              "      <td>0</td>\n",
              "      <td>0</td>\n",
              "      <td>0</td>\n",
              "      <td>0</td>\n",
              "      <td>0</td>\n",
              "      <td>0</td>\n",
              "      <td>0</td>\n",
              "      <td>0</td>\n",
              "      <td>0</td>\n",
              "      <td>0</td>\n",
              "      <td>0</td>\n",
              "      <td>0</td>\n",
              "      <td>0</td>\n",
              "      <td>0</td>\n",
              "      <td>0</td>\n",
              "    </tr>\n",
              "    <tr>\n",
              "      <th>58619</th>\n",
              "      <td>929.0</td>\n",
              "      <td>760.0</td>\n",
              "      <td>1.0</td>\n",
              "      <td>1.0</td>\n",
              "      <td>1</td>\n",
              "      <td>1</td>\n",
              "      <td>0</td>\n",
              "      <td>1</td>\n",
              "      <td>0</td>\n",
              "      <td>0</td>\n",
              "      <td>0</td>\n",
              "      <td>0</td>\n",
              "      <td>0</td>\n",
              "      <td>0</td>\n",
              "      <td>0</td>\n",
              "      <td>0</td>\n",
              "      <td>0</td>\n",
              "      <td>0</td>\n",
              "      <td>0</td>\n",
              "      <td>1</td>\n",
              "      <td>0</td>\n",
              "      <td>0</td>\n",
              "      <td>0</td>\n",
              "      <td>1</td>\n",
              "      <td>0</td>\n",
              "    </tr>\n",
              "    <tr>\n",
              "      <th>58643</th>\n",
              "      <td>1079.0</td>\n",
              "      <td>915.0</td>\n",
              "      <td>2.0</td>\n",
              "      <td>2.0</td>\n",
              "      <td>1</td>\n",
              "      <td>1</td>\n",
              "      <td>0</td>\n",
              "      <td>1</td>\n",
              "      <td>0</td>\n",
              "      <td>0</td>\n",
              "      <td>0</td>\n",
              "      <td>0</td>\n",
              "      <td>0</td>\n",
              "      <td>0</td>\n",
              "      <td>0</td>\n",
              "      <td>0</td>\n",
              "      <td>0</td>\n",
              "      <td>0</td>\n",
              "      <td>0</td>\n",
              "      <td>1</td>\n",
              "      <td>0</td>\n",
              "      <td>0</td>\n",
              "      <td>0</td>\n",
              "      <td>1</td>\n",
              "      <td>0</td>\n",
              "    </tr>\n",
              "    <tr>\n",
              "      <th>58680</th>\n",
              "      <td>916.0</td>\n",
              "      <td>600.0</td>\n",
              "      <td>1.0</td>\n",
              "      <td>1.0</td>\n",
              "      <td>1</td>\n",
              "      <td>1</td>\n",
              "      <td>0</td>\n",
              "      <td>0</td>\n",
              "      <td>0</td>\n",
              "      <td>0</td>\n",
              "      <td>0</td>\n",
              "      <td>0</td>\n",
              "      <td>0</td>\n",
              "      <td>0</td>\n",
              "      <td>0</td>\n",
              "      <td>0</td>\n",
              "      <td>0</td>\n",
              "      <td>0</td>\n",
              "      <td>0</td>\n",
              "      <td>1</td>\n",
              "      <td>0</td>\n",
              "      <td>0</td>\n",
              "      <td>0</td>\n",
              "      <td>1</td>\n",
              "      <td>0</td>\n",
              "    </tr>\n",
              "    <tr>\n",
              "      <th>61822</th>\n",
              "      <td>754.0</td>\n",
              "      <td>605.0</td>\n",
              "      <td>1.0</td>\n",
              "      <td>1.0</td>\n",
              "      <td>1</td>\n",
              "      <td>1</td>\n",
              "      <td>0</td>\n",
              "      <td>0</td>\n",
              "      <td>0</td>\n",
              "      <td>0</td>\n",
              "      <td>0</td>\n",
              "      <td>0</td>\n",
              "      <td>0</td>\n",
              "      <td>0</td>\n",
              "      <td>0</td>\n",
              "      <td>0</td>\n",
              "      <td>1</td>\n",
              "      <td>0</td>\n",
              "      <td>0</td>\n",
              "      <td>0</td>\n",
              "      <td>0</td>\n",
              "      <td>0</td>\n",
              "      <td>0</td>\n",
              "      <td>1</td>\n",
              "      <td>0</td>\n",
              "    </tr>\n",
              "    <tr>\n",
              "      <th>61830</th>\n",
              "      <td>1124.0</td>\n",
              "      <td>1230.0</td>\n",
              "      <td>2.0</td>\n",
              "      <td>2.0</td>\n",
              "      <td>0</td>\n",
              "      <td>0</td>\n",
              "      <td>1</td>\n",
              "      <td>0</td>\n",
              "      <td>0</td>\n",
              "      <td>0</td>\n",
              "      <td>0</td>\n",
              "      <td>0</td>\n",
              "      <td>0</td>\n",
              "      <td>0</td>\n",
              "      <td>0</td>\n",
              "      <td>0</td>\n",
              "      <td>0</td>\n",
              "      <td>0</td>\n",
              "      <td>0</td>\n",
              "      <td>0</td>\n",
              "      <td>0</td>\n",
              "      <td>0</td>\n",
              "      <td>0</td>\n",
              "      <td>0</td>\n",
              "      <td>0</td>\n",
              "    </tr>\n",
              "    <tr>\n",
              "      <th>61856</th>\n",
              "      <td>1349.0</td>\n",
              "      <td>1188.0</td>\n",
              "      <td>2.0</td>\n",
              "      <td>2.0</td>\n",
              "      <td>1</td>\n",
              "      <td>1</td>\n",
              "      <td>1</td>\n",
              "      <td>0</td>\n",
              "      <td>0</td>\n",
              "      <td>0</td>\n",
              "      <td>0</td>\n",
              "      <td>0</td>\n",
              "      <td>0</td>\n",
              "      <td>0</td>\n",
              "      <td>0</td>\n",
              "      <td>0</td>\n",
              "      <td>0</td>\n",
              "      <td>0</td>\n",
              "      <td>1</td>\n",
              "      <td>0</td>\n",
              "      <td>0</td>\n",
              "      <td>0</td>\n",
              "      <td>0</td>\n",
              "      <td>0</td>\n",
              "      <td>0</td>\n",
              "    </tr>\n",
              "    <tr>\n",
              "      <th>61863</th>\n",
              "      <td>730.0</td>\n",
              "      <td>800.0</td>\n",
              "      <td>3.0</td>\n",
              "      <td>1.0</td>\n",
              "      <td>1</td>\n",
              "      <td>1</td>\n",
              "      <td>0</td>\n",
              "      <td>0</td>\n",
              "      <td>0</td>\n",
              "      <td>0</td>\n",
              "      <td>0</td>\n",
              "      <td>0</td>\n",
              "      <td>0</td>\n",
              "      <td>0</td>\n",
              "      <td>0</td>\n",
              "      <td>0</td>\n",
              "      <td>0</td>\n",
              "      <td>0</td>\n",
              "      <td>0</td>\n",
              "      <td>0</td>\n",
              "      <td>0</td>\n",
              "      <td>0</td>\n",
              "      <td>0</td>\n",
              "      <td>0</td>\n",
              "      <td>0</td>\n",
              "    </tr>\n",
              "    <tr>\n",
              "      <th>69822</th>\n",
              "      <td>1220.0</td>\n",
              "      <td>1140.0</td>\n",
              "      <td>2.0</td>\n",
              "      <td>2.0</td>\n",
              "      <td>1</td>\n",
              "      <td>1</td>\n",
              "      <td>1</td>\n",
              "      <td>0</td>\n",
              "      <td>0</td>\n",
              "      <td>0</td>\n",
              "      <td>0</td>\n",
              "      <td>0</td>\n",
              "      <td>0</td>\n",
              "      <td>0</td>\n",
              "      <td>0</td>\n",
              "      <td>0</td>\n",
              "      <td>0</td>\n",
              "      <td>0</td>\n",
              "      <td>0</td>\n",
              "      <td>1</td>\n",
              "      <td>0</td>\n",
              "      <td>0</td>\n",
              "      <td>0</td>\n",
              "      <td>0</td>\n",
              "      <td>0</td>\n",
              "    </tr>\n",
              "    <tr>\n",
              "      <th>69886</th>\n",
              "      <td>610.0</td>\n",
              "      <td>765.0</td>\n",
              "      <td>2.0</td>\n",
              "      <td>1.0</td>\n",
              "      <td>1</td>\n",
              "      <td>1</td>\n",
              "      <td>1</td>\n",
              "      <td>0</td>\n",
              "      <td>0</td>\n",
              "      <td>0</td>\n",
              "      <td>0</td>\n",
              "      <td>0</td>\n",
              "      <td>1</td>\n",
              "      <td>0</td>\n",
              "      <td>0</td>\n",
              "      <td>0</td>\n",
              "      <td>0</td>\n",
              "      <td>0</td>\n",
              "      <td>0</td>\n",
              "      <td>0</td>\n",
              "      <td>0</td>\n",
              "      <td>0</td>\n",
              "      <td>0</td>\n",
              "      <td>0</td>\n",
              "      <td>0</td>\n",
              "    </tr>\n",
              "  </tbody>\n",
              "</table>\n",
              "</div>"
            ],
            "text/plain": [
              "        price  ...  parking_options_street parking\n",
              "58604  1440.0  ...                               0\n",
              "58619   929.0  ...                               0\n",
              "58643  1079.0  ...                               0\n",
              "58680   916.0  ...                               0\n",
              "61822   754.0  ...                               0\n",
              "61830  1124.0  ...                               0\n",
              "61856  1349.0  ...                               0\n",
              "61863   730.0  ...                               0\n",
              "69822  1220.0  ...                               0\n",
              "69886   610.0  ...                               0\n",
              "\n",
              "[10 rows x 25 columns]"
            ]
          },
          "metadata": {
            "tags": []
          },
          "execution_count": 61
        }
      ]
    },
    {
      "cell_type": "code",
      "metadata": {
        "id": "c_C4PhGT87iJ",
        "colab_type": "code",
        "colab": {}
      },
      "source": [
        "#Resetting the Index for house4 dataset\n",
        "house4 = house4.reset_index(drop=True)"
      ],
      "execution_count": 0,
      "outputs": []
    },
    {
      "cell_type": "code",
      "metadata": {
        "id": "DsJ0G3DQ9qW6",
        "colab_type": "code",
        "colab": {
          "base_uri": "https://localhost:8080/",
          "height": 232
        },
        "outputId": "6056ab16-9031-45c0-9b96-ae8d9aed3ae2"
      },
      "source": [
        "house4.head()"
      ],
      "execution_count": 63,
      "outputs": [
        {
          "output_type": "execute_result",
          "data": {
            "text/html": [
              "<div>\n",
              "<style scoped>\n",
              "    .dataframe tbody tr th:only-of-type {\n",
              "        vertical-align: middle;\n",
              "    }\n",
              "\n",
              "    .dataframe tbody tr th {\n",
              "        vertical-align: top;\n",
              "    }\n",
              "\n",
              "    .dataframe thead th {\n",
              "        text-align: right;\n",
              "    }\n",
              "</style>\n",
              "<table border=\"1\" class=\"dataframe\">\n",
              "  <thead>\n",
              "    <tr style=\"text-align: right;\">\n",
              "      <th></th>\n",
              "      <th>price</th>\n",
              "      <th>sqfeet</th>\n",
              "      <th>beds</th>\n",
              "      <th>baths</th>\n",
              "      <th>cats_allowed</th>\n",
              "      <th>dogs_allowed</th>\n",
              "      <th>smoking_allowed</th>\n",
              "      <th>wheelchair_access</th>\n",
              "      <th>electric_vehicle_charge</th>\n",
              "      <th>comes_furnished</th>\n",
              "      <th>type_condo</th>\n",
              "      <th>type_duplex</th>\n",
              "      <th>type_house</th>\n",
              "      <th>type_loft</th>\n",
              "      <th>type_manufactured</th>\n",
              "      <th>type_townhouse</th>\n",
              "      <th>laundry_options_laundry on site</th>\n",
              "      <th>laundry_options_no laundry on site</th>\n",
              "      <th>laundry_options_w/d hookups</th>\n",
              "      <th>laundry_options_w/d in unit</th>\n",
              "      <th>parking_options_carport</th>\n",
              "      <th>parking_options_detached garage</th>\n",
              "      <th>parking_options_no parking</th>\n",
              "      <th>parking_options_off-street parking</th>\n",
              "      <th>parking_options_street parking</th>\n",
              "    </tr>\n",
              "  </thead>\n",
              "  <tbody>\n",
              "    <tr>\n",
              "      <th>0</th>\n",
              "      <td>1440.0</td>\n",
              "      <td>1480.0</td>\n",
              "      <td>3.0</td>\n",
              "      <td>2.5</td>\n",
              "      <td>0</td>\n",
              "      <td>0</td>\n",
              "      <td>1</td>\n",
              "      <td>0</td>\n",
              "      <td>0</td>\n",
              "      <td>0</td>\n",
              "      <td>0</td>\n",
              "      <td>0</td>\n",
              "      <td>0</td>\n",
              "      <td>0</td>\n",
              "      <td>0</td>\n",
              "      <td>0</td>\n",
              "      <td>0</td>\n",
              "      <td>0</td>\n",
              "      <td>0</td>\n",
              "      <td>0</td>\n",
              "      <td>0</td>\n",
              "      <td>0</td>\n",
              "      <td>0</td>\n",
              "      <td>0</td>\n",
              "      <td>0</td>\n",
              "    </tr>\n",
              "    <tr>\n",
              "      <th>1</th>\n",
              "      <td>929.0</td>\n",
              "      <td>760.0</td>\n",
              "      <td>1.0</td>\n",
              "      <td>1.0</td>\n",
              "      <td>1</td>\n",
              "      <td>1</td>\n",
              "      <td>0</td>\n",
              "      <td>1</td>\n",
              "      <td>0</td>\n",
              "      <td>0</td>\n",
              "      <td>0</td>\n",
              "      <td>0</td>\n",
              "      <td>0</td>\n",
              "      <td>0</td>\n",
              "      <td>0</td>\n",
              "      <td>0</td>\n",
              "      <td>0</td>\n",
              "      <td>0</td>\n",
              "      <td>0</td>\n",
              "      <td>1</td>\n",
              "      <td>0</td>\n",
              "      <td>0</td>\n",
              "      <td>0</td>\n",
              "      <td>1</td>\n",
              "      <td>0</td>\n",
              "    </tr>\n",
              "    <tr>\n",
              "      <th>2</th>\n",
              "      <td>1079.0</td>\n",
              "      <td>915.0</td>\n",
              "      <td>2.0</td>\n",
              "      <td>2.0</td>\n",
              "      <td>1</td>\n",
              "      <td>1</td>\n",
              "      <td>0</td>\n",
              "      <td>1</td>\n",
              "      <td>0</td>\n",
              "      <td>0</td>\n",
              "      <td>0</td>\n",
              "      <td>0</td>\n",
              "      <td>0</td>\n",
              "      <td>0</td>\n",
              "      <td>0</td>\n",
              "      <td>0</td>\n",
              "      <td>0</td>\n",
              "      <td>0</td>\n",
              "      <td>0</td>\n",
              "      <td>1</td>\n",
              "      <td>0</td>\n",
              "      <td>0</td>\n",
              "      <td>0</td>\n",
              "      <td>1</td>\n",
              "      <td>0</td>\n",
              "    </tr>\n",
              "    <tr>\n",
              "      <th>3</th>\n",
              "      <td>916.0</td>\n",
              "      <td>600.0</td>\n",
              "      <td>1.0</td>\n",
              "      <td>1.0</td>\n",
              "      <td>1</td>\n",
              "      <td>1</td>\n",
              "      <td>0</td>\n",
              "      <td>0</td>\n",
              "      <td>0</td>\n",
              "      <td>0</td>\n",
              "      <td>0</td>\n",
              "      <td>0</td>\n",
              "      <td>0</td>\n",
              "      <td>0</td>\n",
              "      <td>0</td>\n",
              "      <td>0</td>\n",
              "      <td>0</td>\n",
              "      <td>0</td>\n",
              "      <td>0</td>\n",
              "      <td>1</td>\n",
              "      <td>0</td>\n",
              "      <td>0</td>\n",
              "      <td>0</td>\n",
              "      <td>1</td>\n",
              "      <td>0</td>\n",
              "    </tr>\n",
              "    <tr>\n",
              "      <th>4</th>\n",
              "      <td>754.0</td>\n",
              "      <td>605.0</td>\n",
              "      <td>1.0</td>\n",
              "      <td>1.0</td>\n",
              "      <td>1</td>\n",
              "      <td>1</td>\n",
              "      <td>0</td>\n",
              "      <td>0</td>\n",
              "      <td>0</td>\n",
              "      <td>0</td>\n",
              "      <td>0</td>\n",
              "      <td>0</td>\n",
              "      <td>0</td>\n",
              "      <td>0</td>\n",
              "      <td>0</td>\n",
              "      <td>0</td>\n",
              "      <td>1</td>\n",
              "      <td>0</td>\n",
              "      <td>0</td>\n",
              "      <td>0</td>\n",
              "      <td>0</td>\n",
              "      <td>0</td>\n",
              "      <td>0</td>\n",
              "      <td>1</td>\n",
              "      <td>0</td>\n",
              "    </tr>\n",
              "  </tbody>\n",
              "</table>\n",
              "</div>"
            ],
            "text/plain": [
              "    price  ...  parking_options_street parking\n",
              "0  1440.0  ...                               0\n",
              "1   929.0  ...                               0\n",
              "2  1079.0  ...                               0\n",
              "3   916.0  ...                               0\n",
              "4   754.0  ...                               0\n",
              "\n",
              "[5 rows x 25 columns]"
            ]
          },
          "metadata": {
            "tags": []
          },
          "execution_count": 63
        }
      ]
    },
    {
      "cell_type": "code",
      "metadata": {
        "id": "gdln34MO9rwj",
        "colab_type": "code",
        "colab": {
          "base_uri": "https://localhost:8080/",
          "height": 451
        },
        "outputId": "524ad6d0-43c5-4b6e-85bd-6aadf9108965"
      },
      "source": [
        "sns.heatmap(house4.corr())"
      ],
      "execution_count": 64,
      "outputs": [
        {
          "output_type": "execute_result",
          "data": {
            "text/plain": [
              "<matplotlib.axes._subplots.AxesSubplot at 0x7fd6a095c0b8>"
            ]
          },
          "metadata": {
            "tags": []
          },
          "execution_count": 64
        },
        {
          "output_type": "display_data",
          "data": {
            "image/png": "[encoded data removed]",
            "text/plain": [
              "<Figure size 432x288 with 2 Axes>"
            ]
          },
          "metadata": {
            "tags": [],
            "needs_background": "light"
          }
        }
      ]
    },
    {
      "cell_type": "code",
      "metadata": {
        "id": "xC_PecWz-jTs",
        "colab_type": "code",
        "colab": {
          "base_uri": "https://localhost:8080/",
          "height": 958
        },
        "outputId": "c537613f-a801-471b-a92c-17b3348fc9f3"
      },
      "source": [
        "house4.corr()"
      ],
      "execution_count": 65,
      "outputs": [
        {
          "output_type": "execute_result",
          "data": {
            "text/html": [
              "<div>\n",
              "<style scoped>\n",
              "    .dataframe tbody tr th:only-of-type {\n",
              "        vertical-align: middle;\n",
              "    }\n",
              "\n",
              "    .dataframe tbody tr th {\n",
              "        vertical-align: top;\n",
              "    }\n",
              "\n",
              "    .dataframe thead th {\n",
              "        text-align: right;\n",
              "    }\n",
              "</style>\n",
              "<table border=\"1\" class=\"dataframe\">\n",
              "  <thead>\n",
              "    <tr style=\"text-align: right;\">\n",
              "      <th></th>\n",
              "      <th>price</th>\n",
              "      <th>sqfeet</th>\n",
              "      <th>beds</th>\n",
              "      <th>baths</th>\n",
              "      <th>cats_allowed</th>\n",
              "      <th>dogs_allowed</th>\n",
              "      <th>smoking_allowed</th>\n",
              "      <th>wheelchair_access</th>\n",
              "      <th>electric_vehicle_charge</th>\n",
              "      <th>comes_furnished</th>\n",
              "      <th>type_condo</th>\n",
              "      <th>type_duplex</th>\n",
              "      <th>type_house</th>\n",
              "      <th>type_loft</th>\n",
              "      <th>type_manufactured</th>\n",
              "      <th>type_townhouse</th>\n",
              "      <th>laundry_options_laundry on site</th>\n",
              "      <th>laundry_options_no laundry on site</th>\n",
              "      <th>laundry_options_w/d hookups</th>\n",
              "      <th>laundry_options_w/d in unit</th>\n",
              "      <th>parking_options_carport</th>\n",
              "      <th>parking_options_detached garage</th>\n",
              "      <th>parking_options_no parking</th>\n",
              "      <th>parking_options_off-street parking</th>\n",
              "      <th>parking_options_street parking</th>\n",
              "    </tr>\n",
              "  </thead>\n",
              "  <tbody>\n",
              "    <tr>\n",
              "      <th>price</th>\n",
              "      <td>1.000000</td>\n",
              "      <td>0.547509</td>\n",
              "      <td>0.211384</td>\n",
              "      <td>0.507705</td>\n",
              "      <td>-0.144606</td>\n",
              "      <td>-0.145528</td>\n",
              "      <td>-0.211742</td>\n",
              "      <td>0.017451</td>\n",
              "      <td>0.036991</td>\n",
              "      <td>0.310146</td>\n",
              "      <td>0.024714</td>\n",
              "      <td>0.068245</td>\n",
              "      <td>0.064518</td>\n",
              "      <td>0.013451</td>\n",
              "      <td>-0.032096</td>\n",
              "      <td>0.083303</td>\n",
              "      <td>-0.399643</td>\n",
              "      <td>0.031859</td>\n",
              "      <td>0.134896</td>\n",
              "      <td>0.278514</td>\n",
              "      <td>0.053339</td>\n",
              "      <td>0.089835</td>\n",
              "      <td>0.033753</td>\n",
              "      <td>-0.195755</td>\n",
              "      <td>-0.027371</td>\n",
              "    </tr>\n",
              "    <tr>\n",
              "      <th>sqfeet</th>\n",
              "      <td>0.547509</td>\n",
              "      <td>1.000000</td>\n",
              "      <td>0.733736</td>\n",
              "      <td>0.729218</td>\n",
              "      <td>0.082644</td>\n",
              "      <td>0.085747</td>\n",
              "      <td>-0.012610</td>\n",
              "      <td>-0.064941</td>\n",
              "      <td>0.069126</td>\n",
              "      <td>0.071939</td>\n",
              "      <td>0.027157</td>\n",
              "      <td>0.042151</td>\n",
              "      <td>0.346464</td>\n",
              "      <td>-0.022096</td>\n",
              "      <td>0.066637</td>\n",
              "      <td>0.166284</td>\n",
              "      <td>-0.201867</td>\n",
              "      <td>0.127128</td>\n",
              "      <td>0.195714</td>\n",
              "      <td>0.089054</td>\n",
              "      <td>0.043351</td>\n",
              "      <td>0.048792</td>\n",
              "      <td>-0.012408</td>\n",
              "      <td>-0.072673</td>\n",
              "      <td>0.063301</td>\n",
              "    </tr>\n",
              "    <tr>\n",
              "      <th>beds</th>\n",
              "      <td>0.211384</td>\n",
              "      <td>0.733736</td>\n",
              "      <td>1.000000</td>\n",
              "      <td>0.612644</td>\n",
              "      <td>0.063424</td>\n",
              "      <td>0.066662</td>\n",
              "      <td>0.006605</td>\n",
              "      <td>-0.079069</td>\n",
              "      <td>0.040694</td>\n",
              "      <td>0.019786</td>\n",
              "      <td>0.004620</td>\n",
              "      <td>0.065512</td>\n",
              "      <td>0.321121</td>\n",
              "      <td>-0.010423</td>\n",
              "      <td>0.114152</td>\n",
              "      <td>0.158534</td>\n",
              "      <td>-0.067992</td>\n",
              "      <td>0.025478</td>\n",
              "      <td>0.122691</td>\n",
              "      <td>-0.014371</td>\n",
              "      <td>0.055699</td>\n",
              "      <td>-0.016619</td>\n",
              "      <td>-0.039121</td>\n",
              "      <td>-0.094370</td>\n",
              "      <td>0.019159</td>\n",
              "    </tr>\n",
              "    <tr>\n",
              "      <th>baths</th>\n",
              "      <td>0.507705</td>\n",
              "      <td>0.729218</td>\n",
              "      <td>0.612644</td>\n",
              "      <td>1.000000</td>\n",
              "      <td>-0.006894</td>\n",
              "      <td>-0.010087</td>\n",
              "      <td>-0.124134</td>\n",
              "      <td>0.007157</td>\n",
              "      <td>0.011291</td>\n",
              "      <td>0.105210</td>\n",
              "      <td>0.023018</td>\n",
              "      <td>0.043408</td>\n",
              "      <td>0.202693</td>\n",
              "      <td>0.003048</td>\n",
              "      <td>0.080256</td>\n",
              "      <td>0.207282</td>\n",
              "      <td>-0.367299</td>\n",
              "      <td>0.063276</td>\n",
              "      <td>0.220089</td>\n",
              "      <td>0.208792</td>\n",
              "      <td>0.030905</td>\n",
              "      <td>0.035839</td>\n",
              "      <td>0.015111</td>\n",
              "      <td>-0.136636</td>\n",
              "      <td>-0.004793</td>\n",
              "    </tr>\n",
              "    <tr>\n",
              "      <th>cats_allowed</th>\n",
              "      <td>-0.144606</td>\n",
              "      <td>0.082644</td>\n",
              "      <td>0.063424</td>\n",
              "      <td>-0.006894</td>\n",
              "      <td>1.000000</td>\n",
              "      <td>0.976532</td>\n",
              "      <td>-0.007865</td>\n",
              "      <td>0.145874</td>\n",
              "      <td>0.027540</td>\n",
              "      <td>-0.126407</td>\n",
              "      <td>-0.054839</td>\n",
              "      <td>-0.008970</td>\n",
              "      <td>-0.037379</td>\n",
              "      <td>-0.034248</td>\n",
              "      <td>0.023048</td>\n",
              "      <td>0.035755</td>\n",
              "      <td>0.310995</td>\n",
              "      <td>0.110856</td>\n",
              "      <td>0.179906</td>\n",
              "      <td>0.145239</td>\n",
              "      <td>-0.006271</td>\n",
              "      <td>0.067721</td>\n",
              "      <td>0.083836</td>\n",
              "      <td>0.478745</td>\n",
              "      <td>0.115732</td>\n",
              "    </tr>\n",
              "    <tr>\n",
              "      <th>dogs_allowed</th>\n",
              "      <td>-0.145528</td>\n",
              "      <td>0.085747</td>\n",
              "      <td>0.066662</td>\n",
              "      <td>-0.010087</td>\n",
              "      <td>0.976532</td>\n",
              "      <td>1.000000</td>\n",
              "      <td>-0.004411</td>\n",
              "      <td>0.140566</td>\n",
              "      <td>0.027810</td>\n",
              "      <td>-0.127962</td>\n",
              "      <td>-0.054038</td>\n",
              "      <td>0.000622</td>\n",
              "      <td>-0.035338</td>\n",
              "      <td>-0.010010</td>\n",
              "      <td>0.023646</td>\n",
              "      <td>0.032784</td>\n",
              "      <td>0.311994</td>\n",
              "      <td>0.112134</td>\n",
              "      <td>0.173087</td>\n",
              "      <td>0.140740</td>\n",
              "      <td>-0.005527</td>\n",
              "      <td>0.068559</td>\n",
              "      <td>0.084658</td>\n",
              "      <td>0.471644</td>\n",
              "      <td>0.114398</td>\n",
              "    </tr>\n",
              "    <tr>\n",
              "      <th>smoking_allowed</th>\n",
              "      <td>-0.211742</td>\n",
              "      <td>-0.012610</td>\n",
              "      <td>0.006605</td>\n",
              "      <td>-0.124134</td>\n",
              "      <td>-0.007865</td>\n",
              "      <td>-0.004411</td>\n",
              "      <td>1.000000</td>\n",
              "      <td>-0.252432</td>\n",
              "      <td>-0.011551</td>\n",
              "      <td>-0.245366</td>\n",
              "      <td>-0.082620</td>\n",
              "      <td>0.001780</td>\n",
              "      <td>0.011633</td>\n",
              "      <td>-0.050875</td>\n",
              "      <td>0.008403</td>\n",
              "      <td>-0.013833</td>\n",
              "      <td>0.110134</td>\n",
              "      <td>0.066652</td>\n",
              "      <td>-0.071180</td>\n",
              "      <td>-0.256897</td>\n",
              "      <td>-0.021662</td>\n",
              "      <td>-0.055915</td>\n",
              "      <td>0.056436</td>\n",
              "      <td>-0.053498</td>\n",
              "      <td>0.060176</td>\n",
              "    </tr>\n",
              "    <tr>\n",
              "      <th>wheelchair_access</th>\n",
              "      <td>0.017451</td>\n",
              "      <td>-0.064941</td>\n",
              "      <td>-0.079069</td>\n",
              "      <td>0.007157</td>\n",
              "      <td>0.145874</td>\n",
              "      <td>0.140566</td>\n",
              "      <td>-0.252432</td>\n",
              "      <td>1.000000</td>\n",
              "      <td>0.132616</td>\n",
              "      <td>0.051859</td>\n",
              "      <td>0.016112</td>\n",
              "      <td>0.004181</td>\n",
              "      <td>0.029273</td>\n",
              "      <td>-0.005231</td>\n",
              "      <td>-0.018914</td>\n",
              "      <td>-0.031870</td>\n",
              "      <td>-0.053368</td>\n",
              "      <td>-0.047371</td>\n",
              "      <td>0.048447</td>\n",
              "      <td>0.178392</td>\n",
              "      <td>-0.006855</td>\n",
              "      <td>0.093966</td>\n",
              "      <td>-0.031870</td>\n",
              "      <td>0.106737</td>\n",
              "      <td>0.109641</td>\n",
              "    </tr>\n",
              "    <tr>\n",
              "      <th>electric_vehicle_charge</th>\n",
              "      <td>0.036991</td>\n",
              "      <td>0.069126</td>\n",
              "      <td>0.040694</td>\n",
              "      <td>0.011291</td>\n",
              "      <td>0.027540</td>\n",
              "      <td>0.027810</td>\n",
              "      <td>-0.011551</td>\n",
              "      <td>0.132616</td>\n",
              "      <td>1.000000</td>\n",
              "      <td>0.137243</td>\n",
              "      <td>0.080754</td>\n",
              "      <td>-0.002499</td>\n",
              "      <td>0.070308</td>\n",
              "      <td>-0.000943</td>\n",
              "      <td>-0.003410</td>\n",
              "      <td>-0.005746</td>\n",
              "      <td>-0.023452</td>\n",
              "      <td>-0.008542</td>\n",
              "      <td>0.001385</td>\n",
              "      <td>0.041353</td>\n",
              "      <td>-0.003540</td>\n",
              "      <td>0.081657</td>\n",
              "      <td>-0.005746</td>\n",
              "      <td>-0.030375</td>\n",
              "      <td>-0.008846</td>\n",
              "    </tr>\n",
              "    <tr>\n",
              "      <th>comes_furnished</th>\n",
              "      <td>0.310146</td>\n",
              "      <td>0.071939</td>\n",
              "      <td>0.019786</td>\n",
              "      <td>0.105210</td>\n",
              "      <td>-0.126407</td>\n",
              "      <td>-0.127962</td>\n",
              "      <td>-0.245366</td>\n",
              "      <td>0.051859</td>\n",
              "      <td>0.137243</td>\n",
              "      <td>1.000000</td>\n",
              "      <td>0.086003</td>\n",
              "      <td>-0.008887</td>\n",
              "      <td>0.096565</td>\n",
              "      <td>-0.003354</td>\n",
              "      <td>-0.012128</td>\n",
              "      <td>0.039596</td>\n",
              "      <td>-0.060998</td>\n",
              "      <td>-0.022130</td>\n",
              "      <td>-0.067618</td>\n",
              "      <td>0.218364</td>\n",
              "      <td>0.025976</td>\n",
              "      <td>-0.007040</td>\n",
              "      <td>-0.020436</td>\n",
              "      <td>-0.093565</td>\n",
              "      <td>0.024426</td>\n",
              "    </tr>\n",
              "    <tr>\n",
              "      <th>type_condo</th>\n",
              "      <td>0.024714</td>\n",
              "      <td>0.027157</td>\n",
              "      <td>0.004620</td>\n",
              "      <td>0.023018</td>\n",
              "      <td>-0.054839</td>\n",
              "      <td>-0.054038</td>\n",
              "      <td>-0.082620</td>\n",
              "      <td>0.016112</td>\n",
              "      <td>0.080754</td>\n",
              "      <td>0.086003</td>\n",
              "      <td>1.000000</td>\n",
              "      <td>-0.003753</td>\n",
              "      <td>-0.013966</td>\n",
              "      <td>-0.001416</td>\n",
              "      <td>-0.005122</td>\n",
              "      <td>-0.008630</td>\n",
              "      <td>-0.026548</td>\n",
              "      <td>0.006324</td>\n",
              "      <td>-0.019248</td>\n",
              "      <td>0.059939</td>\n",
              "      <td>0.173829</td>\n",
              "      <td>-0.008262</td>\n",
              "      <td>-0.008630</td>\n",
              "      <td>-0.025653</td>\n",
              "      <td>-0.013284</td>\n",
              "    </tr>\n",
              "    <tr>\n",
              "      <th>type_duplex</th>\n",
              "      <td>0.068245</td>\n",
              "      <td>0.042151</td>\n",
              "      <td>0.065512</td>\n",
              "      <td>0.043408</td>\n",
              "      <td>-0.008970</td>\n",
              "      <td>0.000622</td>\n",
              "      <td>0.001780</td>\n",
              "      <td>0.004181</td>\n",
              "      <td>-0.002499</td>\n",
              "      <td>-0.008887</td>\n",
              "      <td>-0.003753</td>\n",
              "      <td>1.000000</td>\n",
              "      <td>-0.012311</td>\n",
              "      <td>-0.001249</td>\n",
              "      <td>-0.004515</td>\n",
              "      <td>-0.007607</td>\n",
              "      <td>-0.021218</td>\n",
              "      <td>-0.011307</td>\n",
              "      <td>0.064680</td>\n",
              "      <td>-0.031130</td>\n",
              "      <td>0.401384</td>\n",
              "      <td>-0.007283</td>\n",
              "      <td>-0.007607</td>\n",
              "      <td>-0.029927</td>\n",
              "      <td>-0.011710</td>\n",
              "    </tr>\n",
              "    <tr>\n",
              "      <th>type_house</th>\n",
              "      <td>0.064518</td>\n",
              "      <td>0.346464</td>\n",
              "      <td>0.321121</td>\n",
              "      <td>0.202693</td>\n",
              "      <td>-0.037379</td>\n",
              "      <td>-0.035338</td>\n",
              "      <td>0.011633</td>\n",
              "      <td>0.029273</td>\n",
              "      <td>0.070308</td>\n",
              "      <td>0.096565</td>\n",
              "      <td>-0.013966</td>\n",
              "      <td>-0.012311</td>\n",
              "      <td>1.000000</td>\n",
              "      <td>-0.004646</td>\n",
              "      <td>-0.016801</td>\n",
              "      <td>-0.028309</td>\n",
              "      <td>-0.099016</td>\n",
              "      <td>-0.042079</td>\n",
              "      <td>0.094839</td>\n",
              "      <td>-0.008635</td>\n",
              "      <td>0.053649</td>\n",
              "      <td>-0.017868</td>\n",
              "      <td>-0.028309</td>\n",
              "      <td>-0.157130</td>\n",
              "      <td>-0.043578</td>\n",
              "    </tr>\n",
              "    <tr>\n",
              "      <th>type_loft</th>\n",
              "      <td>0.013451</td>\n",
              "      <td>-0.022096</td>\n",
              "      <td>-0.010423</td>\n",
              "      <td>0.003048</td>\n",
              "      <td>-0.034248</td>\n",
              "      <td>-0.010010</td>\n",
              "      <td>-0.050875</td>\n",
              "      <td>-0.005231</td>\n",
              "      <td>-0.000943</td>\n",
              "      <td>-0.003354</td>\n",
              "      <td>-0.001416</td>\n",
              "      <td>-0.001249</td>\n",
              "      <td>-0.004646</td>\n",
              "      <td>1.000000</td>\n",
              "      <td>-0.001704</td>\n",
              "      <td>-0.002871</td>\n",
              "      <td>-0.011718</td>\n",
              "      <td>0.053077</td>\n",
              "      <td>0.013464</td>\n",
              "      <td>-0.011749</td>\n",
              "      <td>-0.001769</td>\n",
              "      <td>-0.002749</td>\n",
              "      <td>-0.002871</td>\n",
              "      <td>0.022864</td>\n",
              "      <td>-0.004420</td>\n",
              "    </tr>\n",
              "    <tr>\n",
              "      <th>type_manufactured</th>\n",
              "      <td>-0.032096</td>\n",
              "      <td>0.066637</td>\n",
              "      <td>0.114152</td>\n",
              "      <td>0.080256</td>\n",
              "      <td>0.023048</td>\n",
              "      <td>0.023646</td>\n",
              "      <td>0.008403</td>\n",
              "      <td>-0.018914</td>\n",
              "      <td>-0.003410</td>\n",
              "      <td>-0.012128</td>\n",
              "      <td>-0.005122</td>\n",
              "      <td>-0.004515</td>\n",
              "      <td>-0.016801</td>\n",
              "      <td>-0.001704</td>\n",
              "      <td>1.000000</td>\n",
              "      <td>-0.010382</td>\n",
              "      <td>-0.042369</td>\n",
              "      <td>-0.015431</td>\n",
              "      <td>0.098419</td>\n",
              "      <td>0.000788</td>\n",
              "      <td>-0.006395</td>\n",
              "      <td>-0.009939</td>\n",
              "      <td>-0.010382</td>\n",
              "      <td>0.040349</td>\n",
              "      <td>0.092118</td>\n",
              "    </tr>\n",
              "    <tr>\n",
              "      <th>type_townhouse</th>\n",
              "      <td>0.083303</td>\n",
              "      <td>0.166284</td>\n",
              "      <td>0.158534</td>\n",
              "      <td>0.207282</td>\n",
              "      <td>0.035755</td>\n",
              "      <td>0.032784</td>\n",
              "      <td>-0.013833</td>\n",
              "      <td>-0.031870</td>\n",
              "      <td>-0.005746</td>\n",
              "      <td>0.039596</td>\n",
              "      <td>-0.008630</td>\n",
              "      <td>-0.007607</td>\n",
              "      <td>-0.028309</td>\n",
              "      <td>-0.002871</td>\n",
              "      <td>-0.010382</td>\n",
              "      <td>1.000000</td>\n",
              "      <td>-0.041051</td>\n",
              "      <td>-0.026002</td>\n",
              "      <td>0.020205</td>\n",
              "      <td>0.110198</td>\n",
              "      <td>0.011609</td>\n",
              "      <td>-0.002209</td>\n",
              "      <td>-0.017493</td>\n",
              "      <td>-0.045751</td>\n",
              "      <td>0.019411</td>\n",
              "    </tr>\n",
              "    <tr>\n",
              "      <th>laundry_options_laundry on site</th>\n",
              "      <td>-0.399643</td>\n",
              "      <td>-0.201867</td>\n",
              "      <td>-0.067992</td>\n",
              "      <td>-0.367299</td>\n",
              "      <td>0.310995</td>\n",
              "      <td>0.311994</td>\n",
              "      <td>0.110134</td>\n",
              "      <td>-0.053368</td>\n",
              "      <td>-0.023452</td>\n",
              "      <td>-0.060998</td>\n",
              "      <td>-0.026548</td>\n",
              "      <td>-0.021218</td>\n",
              "      <td>-0.099016</td>\n",
              "      <td>-0.011718</td>\n",
              "      <td>-0.042369</td>\n",
              "      <td>-0.041051</td>\n",
              "      <td>1.000000</td>\n",
              "      <td>-0.106118</td>\n",
              "      <td>-0.300384</td>\n",
              "      <td>-0.292148</td>\n",
              "      <td>0.011713</td>\n",
              "      <td>-0.068347</td>\n",
              "      <td>-0.058389</td>\n",
              "      <td>0.428589</td>\n",
              "      <td>0.097617</td>\n",
              "    </tr>\n",
              "    <tr>\n",
              "      <th>laundry_options_no laundry on site</th>\n",
              "      <td>0.031859</td>\n",
              "      <td>0.127128</td>\n",
              "      <td>0.025478</td>\n",
              "      <td>0.063276</td>\n",
              "      <td>0.110856</td>\n",
              "      <td>0.112134</td>\n",
              "      <td>0.066652</td>\n",
              "      <td>-0.047371</td>\n",
              "      <td>-0.008542</td>\n",
              "      <td>-0.022130</td>\n",
              "      <td>0.006324</td>\n",
              "      <td>-0.011307</td>\n",
              "      <td>-0.042079</td>\n",
              "      <td>0.053077</td>\n",
              "      <td>-0.015431</td>\n",
              "      <td>-0.026002</td>\n",
              "      <td>-0.106118</td>\n",
              "      <td>1.000000</td>\n",
              "      <td>-0.109404</td>\n",
              "      <td>-0.106404</td>\n",
              "      <td>-0.000644</td>\n",
              "      <td>-0.024893</td>\n",
              "      <td>-0.026002</td>\n",
              "      <td>0.187125</td>\n",
              "      <td>0.004527</td>\n",
              "    </tr>\n",
              "    <tr>\n",
              "      <th>laundry_options_w/d hookups</th>\n",
              "      <td>0.134896</td>\n",
              "      <td>0.195714</td>\n",
              "      <td>0.122691</td>\n",
              "      <td>0.220089</td>\n",
              "      <td>0.179906</td>\n",
              "      <td>0.173087</td>\n",
              "      <td>-0.071180</td>\n",
              "      <td>0.048447</td>\n",
              "      <td>0.001385</td>\n",
              "      <td>-0.067618</td>\n",
              "      <td>-0.019248</td>\n",
              "      <td>0.064680</td>\n",
              "      <td>0.094839</td>\n",
              "      <td>0.013464</td>\n",
              "      <td>0.098419</td>\n",
              "      <td>0.020205</td>\n",
              "      <td>-0.300384</td>\n",
              "      <td>-0.109404</td>\n",
              "      <td>1.000000</td>\n",
              "      <td>-0.301194</td>\n",
              "      <td>0.036838</td>\n",
              "      <td>0.111892</td>\n",
              "      <td>-0.069339</td>\n",
              "      <td>0.065504</td>\n",
              "      <td>-0.025408</td>\n",
              "    </tr>\n",
              "    <tr>\n",
              "      <th>laundry_options_w/d in unit</th>\n",
              "      <td>0.278514</td>\n",
              "      <td>0.089054</td>\n",
              "      <td>-0.014371</td>\n",
              "      <td>0.208792</td>\n",
              "      <td>0.145239</td>\n",
              "      <td>0.140740</td>\n",
              "      <td>-0.256897</td>\n",
              "      <td>0.178392</td>\n",
              "      <td>0.041353</td>\n",
              "      <td>0.218364</td>\n",
              "      <td>0.059939</td>\n",
              "      <td>-0.031130</td>\n",
              "      <td>-0.008635</td>\n",
              "      <td>-0.011749</td>\n",
              "      <td>0.000788</td>\n",
              "      <td>0.110198</td>\n",
              "      <td>-0.292148</td>\n",
              "      <td>-0.106404</td>\n",
              "      <td>-0.301194</td>\n",
              "      <td>1.000000</td>\n",
              "      <td>-0.002390</td>\n",
              "      <td>0.048848</td>\n",
              "      <td>0.144824</td>\n",
              "      <td>-0.074453</td>\n",
              "      <td>0.048091</td>\n",
              "    </tr>\n",
              "    <tr>\n",
              "      <th>parking_options_carport</th>\n",
              "      <td>0.053339</td>\n",
              "      <td>0.043351</td>\n",
              "      <td>0.055699</td>\n",
              "      <td>0.030905</td>\n",
              "      <td>-0.006271</td>\n",
              "      <td>-0.005527</td>\n",
              "      <td>-0.021662</td>\n",
              "      <td>-0.006855</td>\n",
              "      <td>-0.003540</td>\n",
              "      <td>0.025976</td>\n",
              "      <td>0.173829</td>\n",
              "      <td>0.401384</td>\n",
              "      <td>0.053649</td>\n",
              "      <td>-0.001769</td>\n",
              "      <td>-0.006395</td>\n",
              "      <td>0.011609</td>\n",
              "      <td>0.011713</td>\n",
              "      <td>-0.000644</td>\n",
              "      <td>0.036838</td>\n",
              "      <td>-0.002390</td>\n",
              "      <td>1.000000</td>\n",
              "      <td>-0.010316</td>\n",
              "      <td>-0.010776</td>\n",
              "      <td>-0.077358</td>\n",
              "      <td>-0.016588</td>\n",
              "    </tr>\n",
              "    <tr>\n",
              "      <th>parking_options_detached garage</th>\n",
              "      <td>0.089835</td>\n",
              "      <td>0.048792</td>\n",
              "      <td>-0.016619</td>\n",
              "      <td>0.035839</td>\n",
              "      <td>0.067721</td>\n",
              "      <td>0.068559</td>\n",
              "      <td>-0.055915</td>\n",
              "      <td>0.093966</td>\n",
              "      <td>0.081657</td>\n",
              "      <td>-0.007040</td>\n",
              "      <td>-0.008262</td>\n",
              "      <td>-0.007283</td>\n",
              "      <td>-0.017868</td>\n",
              "      <td>-0.002749</td>\n",
              "      <td>-0.009939</td>\n",
              "      <td>-0.002209</td>\n",
              "      <td>-0.068347</td>\n",
              "      <td>-0.024893</td>\n",
              "      <td>0.111892</td>\n",
              "      <td>0.048848</td>\n",
              "      <td>-0.010316</td>\n",
              "      <td>1.000000</td>\n",
              "      <td>-0.016747</td>\n",
              "      <td>-0.120221</td>\n",
              "      <td>-0.025779</td>\n",
              "    </tr>\n",
              "    <tr>\n",
              "      <th>parking_options_no parking</th>\n",
              "      <td>0.033753</td>\n",
              "      <td>-0.012408</td>\n",
              "      <td>-0.039121</td>\n",
              "      <td>0.015111</td>\n",
              "      <td>0.083836</td>\n",
              "      <td>0.084658</td>\n",
              "      <td>0.056436</td>\n",
              "      <td>-0.031870</td>\n",
              "      <td>-0.005746</td>\n",
              "      <td>-0.020436</td>\n",
              "      <td>-0.008630</td>\n",
              "      <td>-0.007607</td>\n",
              "      <td>-0.028309</td>\n",
              "      <td>-0.002871</td>\n",
              "      <td>-0.010382</td>\n",
              "      <td>-0.017493</td>\n",
              "      <td>-0.058389</td>\n",
              "      <td>-0.026002</td>\n",
              "      <td>-0.069339</td>\n",
              "      <td>0.144824</td>\n",
              "      <td>-0.010776</td>\n",
              "      <td>-0.016747</td>\n",
              "      <td>1.000000</td>\n",
              "      <td>-0.125578</td>\n",
              "      <td>-0.026928</td>\n",
              "    </tr>\n",
              "    <tr>\n",
              "      <th>parking_options_off-street parking</th>\n",
              "      <td>-0.195755</td>\n",
              "      <td>-0.072673</td>\n",
              "      <td>-0.094370</td>\n",
              "      <td>-0.136636</td>\n",
              "      <td>0.478745</td>\n",
              "      <td>0.471644</td>\n",
              "      <td>-0.053498</td>\n",
              "      <td>0.106737</td>\n",
              "      <td>-0.030375</td>\n",
              "      <td>-0.093565</td>\n",
              "      <td>-0.025653</td>\n",
              "      <td>-0.029927</td>\n",
              "      <td>-0.157130</td>\n",
              "      <td>0.022864</td>\n",
              "      <td>0.040349</td>\n",
              "      <td>-0.045751</td>\n",
              "      <td>0.428589</td>\n",
              "      <td>0.187125</td>\n",
              "      <td>0.065504</td>\n",
              "      <td>-0.074453</td>\n",
              "      <td>-0.077358</td>\n",
              "      <td>-0.120221</td>\n",
              "      <td>-0.125578</td>\n",
              "      <td>1.000000</td>\n",
              "      <td>-0.193308</td>\n",
              "    </tr>\n",
              "    <tr>\n",
              "      <th>parking_options_street parking</th>\n",
              "      <td>-0.027371</td>\n",
              "      <td>0.063301</td>\n",
              "      <td>0.019159</td>\n",
              "      <td>-0.004793</td>\n",
              "      <td>0.115732</td>\n",
              "      <td>0.114398</td>\n",
              "      <td>0.060176</td>\n",
              "      <td>0.109641</td>\n",
              "      <td>-0.008846</td>\n",
              "      <td>0.024426</td>\n",
              "      <td>-0.013284</td>\n",
              "      <td>-0.011710</td>\n",
              "      <td>-0.043578</td>\n",
              "      <td>-0.004420</td>\n",
              "      <td>0.092118</td>\n",
              "      <td>0.019411</td>\n",
              "      <td>0.097617</td>\n",
              "      <td>0.004527</td>\n",
              "      <td>-0.025408</td>\n",
              "      <td>0.048091</td>\n",
              "      <td>-0.016588</td>\n",
              "      <td>-0.025779</td>\n",
              "      <td>-0.026928</td>\n",
              "      <td>-0.193308</td>\n",
              "      <td>1.000000</td>\n",
              "    </tr>\n",
              "  </tbody>\n",
              "</table>\n",
              "</div>"
            ],
            "text/plain": [
              "                                       price  ...  parking_options_street parking\n",
              "price                               1.000000  ...                       -0.027371\n",
              "sqfeet                              0.547509  ...                        0.063301\n",
              "beds                                0.211384  ...                        0.019159\n",
              "baths                               0.507705  ...                       -0.004793\n",
              "cats_allowed                       -0.144606  ...                        0.115732\n",
              "dogs_allowed                       -0.145528  ...                        0.114398\n",
              "smoking_allowed                    -0.211742  ...                        0.060176\n",
              "wheelchair_access                   0.017451  ...                        0.109641\n",
              "electric_vehicle_charge             0.036991  ...                       -0.008846\n",
              "comes_furnished                     0.310146  ...                        0.024426\n",
              "type_condo                          0.024714  ...                       -0.013284\n",
              "type_duplex                         0.068245  ...                       -0.011710\n",
              "type_house                          0.064518  ...                       -0.043578\n",
              "type_loft                           0.013451  ...                       -0.004420\n",
              "type_manufactured                  -0.032096  ...                        0.092118\n",
              "type_townhouse                      0.083303  ...                        0.019411\n",
              "laundry_options_laundry on site    -0.399643  ...                        0.097617\n",
              "laundry_options_no laundry on site  0.031859  ...                        0.004527\n",
              "laundry_options_w/d hookups         0.134896  ...                       -0.025408\n",
              "laundry_options_w/d in unit         0.278514  ...                        0.048091\n",
              "parking_options_carport             0.053339  ...                       -0.016588\n",
              "parking_options_detached garage     0.089835  ...                       -0.025779\n",
              "parking_options_no parking          0.033753  ...                       -0.026928\n",
              "parking_options_off-street parking -0.195755  ...                       -0.193308\n",
              "parking_options_street parking     -0.027371  ...                        1.000000\n",
              "\n",
              "[25 rows x 25 columns]"
            ]
          },
          "metadata": {
            "tags": []
          },
          "execution_count": 65
        }
      ]
    },
    {
      "cell_type": "code",
      "metadata": {
        "id": "7pJ5ICz7-8P9",
        "colab_type": "code",
        "colab": {}
      },
      "source": [
        "house4_corr=house4.corr()"
      ],
      "execution_count": 0,
      "outputs": []
    },
    {
      "cell_type": "code",
      "metadata": {
        "id": "gIfTh1yU_GaL",
        "colab_type": "code",
        "colab": {}
      },
      "source": [
        "house4_ind=house4.drop(['price'],axis=1)\n",
        "house4_dep=house4[\"price\"]"
      ],
      "execution_count": 0,
      "outputs": []
    },
    {
      "cell_type": "code",
      "metadata": {
        "id": "4Fs894rOC5RQ",
        "colab_type": "code",
        "colab": {
          "base_uri": "https://localhost:8080/",
          "height": 538
        },
        "outputId": "170fe3c2-e21f-44ce-c1b1-33a0bd6ae9dc"
      },
      "source": [
        "house4_ind.info()"
      ],
      "execution_count": 79,
      "outputs": [
        {
          "output_type": "stream",
          "text": [
            "<class 'pandas.core.frame.DataFrame'>\n",
            "RangeIndex: 4246 entries, 0 to 4245\n",
            "Data columns (total 24 columns):\n",
            " #   Column                              Non-Null Count  Dtype  \n",
            "---  ------                              --------------  -----  \n",
            " 0   sqfeet                              4246 non-null   float64\n",
            " 1   beds                                4246 non-null   float64\n",
            " 2   baths                               4246 non-null   float64\n",
            " 3   cats_allowed                        4246 non-null   int64  \n",
            " 4   dogs_allowed                        4246 non-null   int64  \n",
            " 5   smoking_allowed                     4246 non-null   int64  \n",
            " 6   wheelchair_access                   4246 non-null   int64  \n",
            " 7   electric_vehicle_charge             4246 non-null   int64  \n",
            " 8   comes_furnished                     4246 non-null   int64  \n",
            " 9   type_condo                          4246 non-null   uint8  \n",
            " 10  type_duplex                         4246 non-null   uint8  \n",
            " 11  type_house                          4246 non-null   uint8  \n",
            " 12  type_loft                           4246 non-null   uint8  \n",
            " 13  type_manufactured                   4246 non-null   uint8  \n",
            " 14  type_townhouse                      4246 non-null   uint8  \n",
            " 15  laundry_options_laundry on site     4246 non-null   uint8  \n",
            " 16  laundry_options_no laundry on site  4246 non-null   uint8  \n",
            " 17  laundry_options_w/d hookups         4246 non-null   uint8  \n",
            " 18  laundry_options_w/d in unit         4246 non-null   uint8  \n",
            " 19  parking_options_carport             4246 non-null   uint8  \n",
            " 20  parking_options_detached garage     4246 non-null   uint8  \n",
            " 21  parking_options_no parking          4246 non-null   uint8  \n",
            " 22  parking_options_off-street parking  4246 non-null   uint8  \n",
            " 23  parking_options_street parking      4246 non-null   uint8  \n",
            "dtypes: float64(3), int64(6), uint8(15)\n",
            "memory usage: 360.9 KB\n"
          ],
          "name": "stdout"
        }
      ]
    },
    {
      "cell_type": "code",
      "metadata": {
        "id": "lnmseT9wDXsQ",
        "colab_type": "code",
        "colab": {
          "base_uri": "https://localhost:8080/",
          "height": 232
        },
        "outputId": "0ccdc864-2c0a-4317-9bba-698a0353b2ac"
      },
      "source": [
        "house4_ind.head()"
      ],
      "execution_count": 80,
      "outputs": [
        {
          "output_type": "execute_result",
          "data": {
            "text/html": [
              "<div>\n",
              "<style scoped>\n",
              "    .dataframe tbody tr th:only-of-type {\n",
              "        vertical-align: middle;\n",
              "    }\n",
              "\n",
              "    .dataframe tbody tr th {\n",
              "        vertical-align: top;\n",
              "    }\n",
              "\n",
              "    .dataframe thead th {\n",
              "        text-align: right;\n",
              "    }\n",
              "</style>\n",
              "<table border=\"1\" class=\"dataframe\">\n",
              "  <thead>\n",
              "    <tr style=\"text-align: right;\">\n",
              "      <th></th>\n",
              "      <th>sqfeet</th>\n",
              "      <th>beds</th>\n",
              "      <th>baths</th>\n",
              "      <th>cats_allowed</th>\n",
              "      <th>dogs_allowed</th>\n",
              "      <th>smoking_allowed</th>\n",
              "      <th>wheelchair_access</th>\n",
              "      <th>electric_vehicle_charge</th>\n",
              "      <th>comes_furnished</th>\n",
              "      <th>type_condo</th>\n",
              "      <th>type_duplex</th>\n",
              "      <th>type_house</th>\n",
              "      <th>type_loft</th>\n",
              "      <th>type_manufactured</th>\n",
              "      <th>type_townhouse</th>\n",
              "      <th>laundry_options_laundry on site</th>\n",
              "      <th>laundry_options_no laundry on site</th>\n",
              "      <th>laundry_options_w/d hookups</th>\n",
              "      <th>laundry_options_w/d in unit</th>\n",
              "      <th>parking_options_carport</th>\n",
              "      <th>parking_options_detached garage</th>\n",
              "      <th>parking_options_no parking</th>\n",
              "      <th>parking_options_off-street parking</th>\n",
              "      <th>parking_options_street parking</th>\n",
              "    </tr>\n",
              "  </thead>\n",
              "  <tbody>\n",
              "    <tr>\n",
              "      <th>0</th>\n",
              "      <td>1480.0</td>\n",
              "      <td>3.0</td>\n",
              "      <td>2.5</td>\n",
              "      <td>0</td>\n",
              "      <td>0</td>\n",
              "      <td>1</td>\n",
              "      <td>0</td>\n",
              "      <td>0</td>\n",
              "      <td>0</td>\n",
              "      <td>0</td>\n",
              "      <td>0</td>\n",
              "      <td>0</td>\n",
              "      <td>0</td>\n",
              "      <td>0</td>\n",
              "      <td>0</td>\n",
              "      <td>0</td>\n",
              "      <td>0</td>\n",
              "      <td>0</td>\n",
              "      <td>0</td>\n",
              "      <td>0</td>\n",
              "      <td>0</td>\n",
              "      <td>0</td>\n",
              "      <td>0</td>\n",
              "      <td>0</td>\n",
              "    </tr>\n",
              "    <tr>\n",
              "      <th>1</th>\n",
              "      <td>760.0</td>\n",
              "      <td>1.0</td>\n",
              "      <td>1.0</td>\n",
              "      <td>1</td>\n",
              "      <td>1</td>\n",
              "      <td>0</td>\n",
              "      <td>1</td>\n",
              "      <td>0</td>\n",
              "      <td>0</td>\n",
              "      <td>0</td>\n",
              "      <td>0</td>\n",
              "      <td>0</td>\n",
              "      <td>0</td>\n",
              "      <td>0</td>\n",
              "      <td>0</td>\n",
              "      <td>0</td>\n",
              "      <td>0</td>\n",
              "      <td>0</td>\n",
              "      <td>1</td>\n",
              "      <td>0</td>\n",
              "      <td>0</td>\n",
              "      <td>0</td>\n",
              "      <td>1</td>\n",
              "      <td>0</td>\n",
              "    </tr>\n",
              "    <tr>\n",
              "      <th>2</th>\n",
              "      <td>915.0</td>\n",
              "      <td>2.0</td>\n",
              "      <td>2.0</td>\n",
              "      <td>1</td>\n",
              "      <td>1</td>\n",
              "      <td>0</td>\n",
              "      <td>1</td>\n",
              "      <td>0</td>\n",
              "      <td>0</td>\n",
              "      <td>0</td>\n",
              "      <td>0</td>\n",
              "      <td>0</td>\n",
              "      <td>0</td>\n",
              "      <td>0</td>\n",
              "      <td>0</td>\n",
              "      <td>0</td>\n",
              "      <td>0</td>\n",
              "      <td>0</td>\n",
              "      <td>1</td>\n",
              "      <td>0</td>\n",
              "      <td>0</td>\n",
              "      <td>0</td>\n",
              "      <td>1</td>\n",
              "      <td>0</td>\n",
              "    </tr>\n",
              "    <tr>\n",
              "      <th>3</th>\n",
              "      <td>600.0</td>\n",
              "      <td>1.0</td>\n",
              "      <td>1.0</td>\n",
              "      <td>1</td>\n",
              "      <td>1</td>\n",
              "      <td>0</td>\n",
              "      <td>0</td>\n",
              "      <td>0</td>\n",
              "      <td>0</td>\n",
              "      <td>0</td>\n",
              "      <td>0</td>\n",
              "      <td>0</td>\n",
              "      <td>0</td>\n",
              "      <td>0</td>\n",
              "      <td>0</td>\n",
              "      <td>0</td>\n",
              "      <td>0</td>\n",
              "      <td>0</td>\n",
              "      <td>1</td>\n",
              "      <td>0</td>\n",
              "      <td>0</td>\n",
              "      <td>0</td>\n",
              "      <td>1</td>\n",
              "      <td>0</td>\n",
              "    </tr>\n",
              "    <tr>\n",
              "      <th>4</th>\n",
              "      <td>605.0</td>\n",
              "      <td>1.0</td>\n",
              "      <td>1.0</td>\n",
              "      <td>1</td>\n",
              "      <td>1</td>\n",
              "      <td>0</td>\n",
              "      <td>0</td>\n",
              "      <td>0</td>\n",
              "      <td>0</td>\n",
              "      <td>0</td>\n",
              "      <td>0</td>\n",
              "      <td>0</td>\n",
              "      <td>0</td>\n",
              "      <td>0</td>\n",
              "      <td>0</td>\n",
              "      <td>1</td>\n",
              "      <td>0</td>\n",
              "      <td>0</td>\n",
              "      <td>0</td>\n",
              "      <td>0</td>\n",
              "      <td>0</td>\n",
              "      <td>0</td>\n",
              "      <td>1</td>\n",
              "      <td>0</td>\n",
              "    </tr>\n",
              "  </tbody>\n",
              "</table>\n",
              "</div>"
            ],
            "text/plain": [
              "   sqfeet  ...  parking_options_street parking\n",
              "0  1480.0  ...                               0\n",
              "1   760.0  ...                               0\n",
              "2   915.0  ...                               0\n",
              "3   600.0  ...                               0\n",
              "4   605.0  ...                               0\n",
              "\n",
              "[5 rows x 24 columns]"
            ]
          },
          "metadata": {
            "tags": []
          },
          "execution_count": 80
        }
      ]
    },
    {
      "cell_type": "code",
      "metadata": {
        "id": "5kNfJqzpFCGO",
        "colab_type": "code",
        "colab": {}
      },
      "source": [
        "import statsmodels.formula.api as sm\n",
        "\n",
        "def vif_cal(input_data, dependent_col):\n",
        "    x_vars=input_data.copy()\n",
        "    xvar_names=x_vars.columns\n",
        "    for i in range(0,xvar_names.shape[0]):\n",
        "        y=x_vars[xvar_names[i]] \n",
        "        x=x_vars[xvar_names.drop(xvar_names[i])]\n",
        "        rsq=sm.ols(formula=\"y~x\", data=x_vars).fit().rsquared  \n",
        "        vif=round(1/(1-rsq),2)\n",
        "        print (xvar_names[i], \" VIF = \" , vif)"
      ],
      "execution_count": 0,
      "outputs": []
    },
    {
      "cell_type": "code",
      "metadata": {
        "id": "JRqBJjIhFImM",
        "colab_type": "code",
        "colab": {
          "base_uri": "https://localhost:8080/",
          "height": 420
        },
        "outputId": "54e5eca6-d0d1-4c32-db9a-1167ad3366ba"
      },
      "source": [
        "vif_cal(input_data=house4_ind,dependent_col=house4_dep)"
      ],
      "execution_count": 82,
      "outputs": [
        {
          "output_type": "stream",
          "text": [
            "sqfeet  VIF =  3.39\n",
            "beds  VIF =  2.53\n",
            "baths  VIF =  2.75\n",
            "cats_allowed  VIF =  22.63\n",
            "dogs_allowed  VIF =  22.02\n",
            "smoking_allowed  VIF =  1.25\n",
            "wheelchair_access  VIF =  1.21\n",
            "electric_vehicle_charge  VIF =  1.07\n",
            "comes_furnished  VIF =  1.19\n",
            "type_condo  VIF =  1.06\n",
            "type_duplex  VIF =  1.22\n",
            "type_house  VIF =  1.26\n",
            "type_loft  VIF =  1.02\n",
            "type_manufactured  VIF =  1.05\n",
            "type_townhouse  VIF =  1.07\n",
            "laundry_options_laundry on site  VIF =  2.97\n",
            "laundry_options_no laundry on site  VIF =  1.47\n",
            "laundry_options_w/d hookups  VIF =  2.39\n",
            "laundry_options_w/d in unit  VIF =  2.44\n",
            "parking_options_carport  VIF =  1.27\n",
            "parking_options_detached garage  VIF =  1.1\n",
            "parking_options_no parking  VIF =  1.09\n",
            "parking_options_off-street parking  VIF =  2.18\n",
            "parking_options_street parking  VIF =  1.28\n"
          ],
          "name": "stdout"
        }
      ]
    },
    {
      "cell_type": "code",
      "metadata": {
        "id": "7B0oArRfFuWN",
        "colab_type": "code",
        "colab": {}
      },
      "source": [
        "house4_ind.drop(['cats_allowed'],axis=1,inplace=True)"
      ],
      "execution_count": 0,
      "outputs": []
    },
    {
      "cell_type": "code",
      "metadata": {
        "id": "WOJFEmGOGASV",
        "colab_type": "code",
        "colab": {
          "base_uri": "https://localhost:8080/",
          "height": 403
        },
        "outputId": "6279c714-557b-4bff-a4c7-2f9e700b46db"
      },
      "source": [
        "vif_cal(input_data=house4_ind,dependent_col=house4_dep)"
      ],
      "execution_count": 84,
      "outputs": [
        {
          "output_type": "stream",
          "text": [
            "sqfeet  VIF =  3.39\n",
            "beds  VIF =  2.53\n",
            "baths  VIF =  2.74\n",
            "dogs_allowed  VIF =  2.04\n",
            "smoking_allowed  VIF =  1.25\n",
            "wheelchair_access  VIF =  1.21\n",
            "electric_vehicle_charge  VIF =  1.07\n",
            "comes_furnished  VIF =  1.19\n",
            "type_condo  VIF =  1.06\n",
            "type_duplex  VIF =  1.21\n",
            "type_house  VIF =  1.26\n",
            "type_loft  VIF =  1.01\n",
            "type_manufactured  VIF =  1.05\n",
            "type_townhouse  VIF =  1.07\n",
            "laundry_options_laundry on site  VIF =  2.95\n",
            "laundry_options_no laundry on site  VIF =  1.46\n",
            "laundry_options_w/d hookups  VIF =  2.36\n",
            "laundry_options_w/d in unit  VIF =  2.41\n",
            "parking_options_carport  VIF =  1.27\n",
            "parking_options_detached garage  VIF =  1.1\n",
            "parking_options_no parking  VIF =  1.09\n",
            "parking_options_off-street parking  VIF =  2.16\n",
            "parking_options_street parking  VIF =  1.28\n"
          ],
          "name": "stdout"
        }
      ]
    },
    {
      "cell_type": "code",
      "metadata": {
        "id": "0CzGq3WVHAiH",
        "colab_type": "code",
        "colab": {}
      },
      "source": [
        "from statsmodels.graphics.gofplots import qqplot"
      ],
      "execution_count": 0,
      "outputs": []
    },
    {
      "cell_type": "code",
      "metadata": {
        "id": "qBJUgAsVHxw-",
        "colab_type": "code",
        "colab": {
          "base_uri": "https://localhost:8080/",
          "height": 545
        },
        "outputId": "4e79c567-417d-4ca4-cffa-c932111c4c77"
      },
      "source": [
        "qqplot(house4[\"price\"],line=\"s\")"
      ],
      "execution_count": 86,
      "outputs": [
        {
          "output_type": "execute_result",
          "data": {
            "image/png": "[encoded data removed]",
            "text/plain": [
              "<Figure size 432x288 with 1 Axes>"
            ]
          },
          "metadata": {
            "tags": []
          },
          "execution_count": 86
        },
        {
          "output_type": "display_data",
          "data": {
            "image/png": "[encoded data removed]",
            "text/plain": [
              "<Figure size 432x288 with 1 Axes>"
            ]
          },
          "metadata": {
            "tags": [],
            "needs_background": "light"
          }
        }
      ]
    },
    {
      "cell_type": "code",
      "metadata": {
        "id": "VBrUwytTH6TS",
        "colab_type": "code",
        "colab": {}
      },
      "source": [
        ""
      ],
      "execution_count": 0,
      "outputs": []
    }
  ]
}